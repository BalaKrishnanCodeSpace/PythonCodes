{
  "nbformat": 4,
  "nbformat_minor": 0,
  "metadata": {
    "colab": {
      "provenance": []
    },
    "kernelspec": {
      "name": "python3",
      "display_name": "Python 3"
    },
    "language_info": {
      "name": "python"
    }
  },
  "cells": [
    {
      "cell_type": "code",
      "execution_count": null,
      "metadata": {
        "id": "I6I6IAxjKmdm"
      },
      "outputs": [],
      "source": [
        "l = [0,1,2,3,4,5,6,7,8,9]"
      ]
    },
    {
      "cell_type": "code",
      "source": [
        "l[::-1]"
      ],
      "metadata": {
        "colab": {
          "base_uri": "https://localhost:8080/"
        },
        "id": "wXx1vDXqICXt",
        "outputId": "25b83117-2c5d-40fd-d104-13378606fcd0"
      },
      "execution_count": null,
      "outputs": [
        {
          "output_type": "execute_result",
          "data": {
            "text/plain": [
              "[9, 8, 7, 6, 5, 4, 3, 2, 1, 0]"
            ]
          },
          "metadata": {},
          "execution_count": 2
        }
      ]
    },
    {
      "cell_type": "code",
      "source": [
        "l[:-1]"
      ],
      "metadata": {
        "colab": {
          "base_uri": "https://localhost:8080/"
        },
        "id": "XNnjdlYgIIrN",
        "outputId": "2c8da0f3-34cf-4c78-d59b-e57e3622d6ae"
      },
      "execution_count": null,
      "outputs": [
        {
          "output_type": "execute_result",
          "data": {
            "text/plain": [
              "[0, 1, 2, 3, 4, 5, 6, 7, 8]"
            ]
          },
          "metadata": {},
          "execution_count": 3
        }
      ]
    },
    {
      "cell_type": "code",
      "source": [
        "l[:-2]"
      ],
      "metadata": {
        "colab": {
          "base_uri": "https://localhost:8080/"
        },
        "id": "ntxgI7JsILXW",
        "outputId": "5faa1a19-5e31-4d53-dc9b-669f435defc8"
      },
      "execution_count": null,
      "outputs": [
        {
          "output_type": "execute_result",
          "data": {
            "text/plain": [
              "[0, 1, 2, 3, 4, 5, 6, 7]"
            ]
          },
          "metadata": {},
          "execution_count": 4
        }
      ]
    },
    {
      "cell_type": "code",
      "source": [
        "l[0:5]"
      ],
      "metadata": {
        "colab": {
          "base_uri": "https://localhost:8080/"
        },
        "id": "a_v0TowyINBV",
        "outputId": "ab226e2e-a6ad-470d-db97-17ec63b29398"
      },
      "execution_count": null,
      "outputs": [
        {
          "output_type": "execute_result",
          "data": {
            "text/plain": [
              "[0, 1, 2, 3, 4]"
            ]
          },
          "metadata": {},
          "execution_count": 5
        }
      ]
    },
    {
      "cell_type": "code",
      "source": [
        "l[5:2:-1]"
      ],
      "metadata": {
        "colab": {
          "base_uri": "https://localhost:8080/"
        },
        "id": "EQ89-15PIQo2",
        "outputId": "dc726ef3-7824-477b-9a5a-d8a23b96df96"
      },
      "execution_count": null,
      "outputs": [
        {
          "output_type": "execute_result",
          "data": {
            "text/plain": [
              "[5, 4, 3]"
            ]
          },
          "metadata": {},
          "execution_count": 6
        }
      ]
    },
    {
      "cell_type": "code",
      "source": [
        "l[-5:-2]"
      ],
      "metadata": {
        "colab": {
          "base_uri": "https://localhost:8080/"
        },
        "id": "NtWXk8N9IVco",
        "outputId": "a7a4c010-9809-401f-8179-167eaed95ac7"
      },
      "execution_count": null,
      "outputs": [
        {
          "output_type": "execute_result",
          "data": {
            "text/plain": [
              "[5, 6, 7]"
            ]
          },
          "metadata": {},
          "execution_count": 7
        }
      ]
    },
    {
      "cell_type": "code",
      "source": [
        "l[-2:-7:-1]"
      ],
      "metadata": {
        "colab": {
          "base_uri": "https://localhost:8080/"
        },
        "id": "JN7KnEg7Ig1j",
        "outputId": "a6bdee6b-6713-4fef-cf54-c709207f9c50"
      },
      "execution_count": null,
      "outputs": [
        {
          "output_type": "execute_result",
          "data": {
            "text/plain": [
              "[8, 7, 6, 5, 4]"
            ]
          },
          "metadata": {},
          "execution_count": 8
        }
      ]
    },
    {
      "cell_type": "code",
      "source": [
        "a = len(l)\n",
        "a"
      ],
      "metadata": {
        "colab": {
          "base_uri": "https://localhost:8080/"
        },
        "id": "qNy8VSCSIwas",
        "outputId": "94b88099-c6f8-4a00-c543-53277db6a096"
      },
      "execution_count": null,
      "outputs": [
        {
          "output_type": "execute_result",
          "data": {
            "text/plain": [
              "10"
            ]
          },
          "metadata": {},
          "execution_count": 10
        }
      ]
    },
    {
      "cell_type": "code",
      "source": [
        "print(max(l))\n",
        "print(sum(l))\n",
        "print(min(l))\n",
        "#print(avg(l))"
      ],
      "metadata": {
        "colab": {
          "base_uri": "https://localhost:8080/"
        },
        "id": "dn0DtF-4I6XH",
        "outputId": "6cf827cf-b98f-4d24-fa21-e9c58451280f"
      },
      "execution_count": null,
      "outputs": [
        {
          "output_type": "stream",
          "name": "stdout",
          "text": [
            "9\n",
            "45\n",
            "0\n"
          ]
        }
      ]
    },
    {
      "cell_type": "code",
      "source": [
        "print(sum(l)/len(l))"
      ],
      "metadata": {
        "colab": {
          "base_uri": "https://localhost:8080/"
        },
        "id": "daqy5YMYJCKH",
        "outputId": "a9dd98e6-beb3-4b4a-fddf-283bd361702f"
      },
      "execution_count": null,
      "outputs": [
        {
          "output_type": "stream",
          "name": "stdout",
          "text": [
            "4.5\n"
          ]
        }
      ]
    },
    {
      "cell_type": "code",
      "source": [
        "for i in dir(list):\n",
        "  if '__' not in i:\n",
        "    print(i)"
      ],
      "metadata": {
        "colab": {
          "base_uri": "https://localhost:8080/"
        },
        "id": "YuJbYjx1JVix",
        "outputId": "feb04421-5422-49ef-e417-8bab537c60e9"
      },
      "execution_count": null,
      "outputs": [
        {
          "output_type": "stream",
          "name": "stdout",
          "text": [
            "append\n",
            "clear\n",
            "copy\n",
            "count\n",
            "extend\n",
            "index\n",
            "insert\n",
            "pop\n",
            "remove\n",
            "reverse\n",
            "sort\n"
          ]
        }
      ]
    },
    {
      "cell_type": "code",
      "source": [
        "l = [0,1,2,3,4,5]"
      ],
      "metadata": {
        "id": "zrVZvIMKJMCu"
      },
      "execution_count": null,
      "outputs": []
    },
    {
      "cell_type": "code",
      "source": [
        "l.append(6)"
      ],
      "metadata": {
        "id": "XreGGpEVJU1s"
      },
      "execution_count": null,
      "outputs": []
    },
    {
      "cell_type": "code",
      "source": [
        "l"
      ],
      "metadata": {
        "colab": {
          "base_uri": "https://localhost:8080/"
        },
        "id": "RPK8lEMVJiM4",
        "outputId": "7deeeb81-f291-4196-ec3a-489811346d38"
      },
      "execution_count": null,
      "outputs": [
        {
          "output_type": "execute_result",
          "data": {
            "text/plain": [
              "[0, 1, 2, 3, 4, 5, 6]"
            ]
          },
          "metadata": {},
          "execution_count": 19
        }
      ]
    },
    {
      "cell_type": "code",
      "source": [
        "l.append(6,7)\n",
        "l"
      ],
      "metadata": {
        "colab": {
          "base_uri": "https://localhost:8080/",
          "height": 164
        },
        "id": "CsbyPDLgJjYn",
        "outputId": "d8b1482f-16e1-4a80-8fe3-7526df2ca485"
      },
      "execution_count": null,
      "outputs": [
        {
          "output_type": "error",
          "ename": "TypeError",
          "evalue": "list.append() takes exactly one argument (2 given)",
          "traceback": [
            "\u001b[0;31m---------------------------------------------------------------------------\u001b[0m",
            "\u001b[0;31mTypeError\u001b[0m                                 Traceback (most recent call last)",
            "\u001b[0;32m<ipython-input-20-986abf9f7101>\u001b[0m in \u001b[0;36m<cell line: 0>\u001b[0;34m()\u001b[0m\n\u001b[0;32m----> 1\u001b[0;31m \u001b[0ml\u001b[0m\u001b[0;34m.\u001b[0m\u001b[0mappend\u001b[0m\u001b[0;34m(\u001b[0m\u001b[0;36m6\u001b[0m\u001b[0;34m,\u001b[0m\u001b[0;36m7\u001b[0m\u001b[0;34m)\u001b[0m\u001b[0;34m\u001b[0m\u001b[0;34m\u001b[0m\u001b[0m\n\u001b[0m\u001b[1;32m      2\u001b[0m \u001b[0ml\u001b[0m\u001b[0;34m\u001b[0m\u001b[0;34m\u001b[0m\u001b[0m\n",
            "\u001b[0;31mTypeError\u001b[0m: list.append() takes exactly one argument (2 given)"
          ]
        }
      ]
    },
    {
      "cell_type": "code",
      "source": [
        "l.append([7,8])\n",
        "l"
      ],
      "metadata": {
        "colab": {
          "base_uri": "https://localhost:8080/"
        },
        "id": "Ty5WM1gLJmOt",
        "outputId": "5864f73f-923c-49e4-e443-25700c48a0c3"
      },
      "execution_count": null,
      "outputs": [
        {
          "output_type": "execute_result",
          "data": {
            "text/plain": [
              "[0, 1, 2, 3, 4, 5, 6, [7, 8]]"
            ]
          },
          "metadata": {},
          "execution_count": 21
        }
      ]
    },
    {
      "cell_type": "code",
      "source": [
        "b = l.copy()\n",
        "b"
      ],
      "metadata": {
        "colab": {
          "base_uri": "https://localhost:8080/"
        },
        "id": "qHjsG8kKJrWx",
        "outputId": "1ccc28c5-4e70-4a94-b9c0-b52a170591e3"
      },
      "execution_count": null,
      "outputs": [
        {
          "output_type": "execute_result",
          "data": {
            "text/plain": [
              "[0, 1, 2, 3, 4, 5, 6, [7, 8]]"
            ]
          },
          "metadata": {},
          "execution_count": 22
        }
      ]
    },
    {
      "cell_type": "code",
      "source": [
        "b[5] = 5.12"
      ],
      "metadata": {
        "id": "F44k2NfAJv3T"
      },
      "execution_count": null,
      "outputs": []
    },
    {
      "cell_type": "code",
      "source": [
        "b"
      ],
      "metadata": {
        "colab": {
          "base_uri": "https://localhost:8080/"
        },
        "id": "WLeZK4WeJyP8",
        "outputId": "bcf8cc3b-667c-4d0e-902a-05f396649c4b"
      },
      "execution_count": null,
      "outputs": [
        {
          "output_type": "execute_result",
          "data": {
            "text/plain": [
              "[0, 1, 2, 3, 4, 5.12, 6, [7, 8]]"
            ]
          },
          "metadata": {},
          "execution_count": 24
        }
      ]
    },
    {
      "cell_type": "code",
      "source": [
        "l"
      ],
      "metadata": {
        "colab": {
          "base_uri": "https://localhost:8080/"
        },
        "id": "rUdG3JZMJzMq",
        "outputId": "509a7e8c-de6c-4324-8ef2-bcd0b95458a0"
      },
      "execution_count": null,
      "outputs": [
        {
          "output_type": "execute_result",
          "data": {
            "text/plain": [
              "[0, 1, 2, 3, 4, 5, 6, [7, 8]]"
            ]
          },
          "metadata": {},
          "execution_count": 26
        }
      ]
    },
    {
      "cell_type": "code",
      "source": [
        "b[7][1] = 8.52\n",
        "print(b)\n",
        "print(l)"
      ],
      "metadata": {
        "colab": {
          "base_uri": "https://localhost:8080/"
        },
        "id": "Wu8dAfBgJ2c6",
        "outputId": "af9f553c-1649-4bd1-fa2d-e330ef5f418a"
      },
      "execution_count": null,
      "outputs": [
        {
          "output_type": "stream",
          "name": "stdout",
          "text": [
            "[0, 1, 2, 3, 4, 5.12, 6, [7, 8.52]]\n",
            "[0, 1, 2, 3, 4, 5, 6, [7, 8.52]]\n"
          ]
        }
      ]
    },
    {
      "cell_type": "code",
      "source": [
        "b[6] = 6.52\n",
        "print(b)\n",
        "print(l)"
      ],
      "metadata": {
        "colab": {
          "base_uri": "https://localhost:8080/"
        },
        "id": "1NEfzd6NJ-Do",
        "outputId": "80946bcc-0f6c-48ab-9a35-52b628a5248e"
      },
      "execution_count": null,
      "outputs": [
        {
          "output_type": "stream",
          "name": "stdout",
          "text": [
            "[0, 1, 2, 3, 4, 5.12, 6.52, [7, 8.52]]\n",
            "[0, 1, 2, 3, 4, 5, 6, [7, 8.52]]\n"
          ]
        }
      ]
    },
    {
      "cell_type": "code",
      "source": [
        "a = [1,1,1,2,2,2,3,4,5,6,4,2,2,3,4,5,3,2,1,1]"
      ],
      "metadata": {
        "id": "EP6vwdY9KB0B"
      },
      "execution_count": null,
      "outputs": []
    },
    {
      "cell_type": "code",
      "source": [
        "a.count(2)"
      ],
      "metadata": {
        "colab": {
          "base_uri": "https://localhost:8080/"
        },
        "id": "y6LDcbC_KKYt",
        "outputId": "679c177f-cee6-4f18-9aca-cb8c8768f40e"
      },
      "execution_count": null,
      "outputs": [
        {
          "output_type": "execute_result",
          "data": {
            "text/plain": [
              "6"
            ]
          },
          "metadata": {},
          "execution_count": 30
        }
      ]
    },
    {
      "cell_type": "code",
      "source": [
        "a.index(2)"
      ],
      "metadata": {
        "colab": {
          "base_uri": "https://localhost:8080/"
        },
        "id": "eN5JyiZNKNYG",
        "outputId": "c68b36c7-191a-4a1a-e398-274a9f88f15a"
      },
      "execution_count": null,
      "outputs": [
        {
          "output_type": "execute_result",
          "data": {
            "text/plain": [
              "3"
            ]
          },
          "metadata": {},
          "execution_count": 31
        }
      ]
    },
    {
      "cell_type": "code",
      "source": [
        "a[3:].index(2)"
      ],
      "metadata": {
        "colab": {
          "base_uri": "https://localhost:8080/"
        },
        "id": "LrFzSmDNKQnd",
        "outputId": "43dac5fb-cbfd-4663-c4b7-687212a56947"
      },
      "execution_count": null,
      "outputs": [
        {
          "output_type": "execute_result",
          "data": {
            "text/plain": [
              "0"
            ]
          },
          "metadata": {},
          "execution_count": 32
        }
      ]
    },
    {
      "cell_type": "code",
      "source": [
        "l"
      ],
      "metadata": {
        "colab": {
          "base_uri": "https://localhost:8080/"
        },
        "id": "avvt_bfNKgkd",
        "outputId": "bb207569-32d3-4e99-803e-562965d3f54a"
      },
      "execution_count": null,
      "outputs": [
        {
          "output_type": "execute_result",
          "data": {
            "text/plain": [
              "[0, 1, 2, 3, 4, 5, 6, [7, 8.52]]"
            ]
          },
          "metadata": {},
          "execution_count": 33
        }
      ]
    },
    {
      "cell_type": "code",
      "source": [
        "l.extend('good boy')\n",
        "l"
      ],
      "metadata": {
        "colab": {
          "base_uri": "https://localhost:8080/"
        },
        "id": "CcdJ1yP1Kki4",
        "outputId": "6c543576-8352-48ff-81c8-e3b8f17b704b"
      },
      "execution_count": null,
      "outputs": [
        {
          "output_type": "execute_result",
          "data": {
            "text/plain": [
              "[0, 1, 2, 3, 4, 5, 6, [7, 8.52], 'g', 'o', 'o', 'd', ' ', 'b', 'o', 'y']"
            ]
          },
          "metadata": {},
          "execution_count": 34
        }
      ]
    },
    {
      "cell_type": "code",
      "source": [
        "l.extend(['bad boy'])\n",
        "l"
      ],
      "metadata": {
        "colab": {
          "base_uri": "https://localhost:8080/"
        },
        "id": "-vIsMwD2KoUB",
        "outputId": "5e296122-01a7-4dbc-d5bd-597745957b5c"
      },
      "execution_count": null,
      "outputs": [
        {
          "output_type": "execute_result",
          "data": {
            "text/plain": [
              "[0,\n",
              " 1,\n",
              " 2,\n",
              " 3,\n",
              " 4,\n",
              " 5,\n",
              " 6,\n",
              " [7, 8.52],\n",
              " 'g',\n",
              " 'o',\n",
              " 'o',\n",
              " 'd',\n",
              " ' ',\n",
              " 'b',\n",
              " 'o',\n",
              " 'y',\n",
              " 'bad boy']"
            ]
          },
          "metadata": {},
          "execution_count": 35
        }
      ]
    },
    {
      "cell_type": "code",
      "source": [
        "l.extend(1,2,3,4,5)"
      ],
      "metadata": {
        "colab": {
          "base_uri": "https://localhost:8080/",
          "height": 146
        },
        "id": "1Qa44FZGKsBy",
        "outputId": "02bc1b92-b565-4319-94f5-150aa89346fe"
      },
      "execution_count": null,
      "outputs": [
        {
          "output_type": "error",
          "ename": "TypeError",
          "evalue": "list.extend() takes exactly one argument (5 given)",
          "traceback": [
            "\u001b[0;31m---------------------------------------------------------------------------\u001b[0m",
            "\u001b[0;31mTypeError\u001b[0m                                 Traceback (most recent call last)",
            "\u001b[0;32m<ipython-input-36-4f5ea7971503>\u001b[0m in \u001b[0;36m<cell line: 0>\u001b[0;34m()\u001b[0m\n\u001b[0;32m----> 1\u001b[0;31m \u001b[0ml\u001b[0m\u001b[0;34m.\u001b[0m\u001b[0mextend\u001b[0m\u001b[0;34m(\u001b[0m\u001b[0;36m1\u001b[0m\u001b[0;34m,\u001b[0m\u001b[0;36m2\u001b[0m\u001b[0;34m,\u001b[0m\u001b[0;36m3\u001b[0m\u001b[0;34m,\u001b[0m\u001b[0;36m4\u001b[0m\u001b[0;34m,\u001b[0m\u001b[0;36m5\u001b[0m\u001b[0;34m)\u001b[0m\u001b[0;34m\u001b[0m\u001b[0;34m\u001b[0m\u001b[0m\n\u001b[0m",
            "\u001b[0;31mTypeError\u001b[0m: list.extend() takes exactly one argument (5 given)"
          ]
        }
      ]
    },
    {
      "cell_type": "code",
      "source": [
        "l.extend([8,9,10,11])\n",
        "l"
      ],
      "metadata": {
        "colab": {
          "base_uri": "https://localhost:8080/"
        },
        "id": "Ehm_tU2AKvgt",
        "outputId": "26876f3d-d69c-47bf-8980-31413dedf909"
      },
      "execution_count": null,
      "outputs": [
        {
          "output_type": "execute_result",
          "data": {
            "text/plain": [
              "[0,\n",
              " 1,\n",
              " 2,\n",
              " 3,\n",
              " 4,\n",
              " 5,\n",
              " 6,\n",
              " [7, 8.52],\n",
              " 'g',\n",
              " 'o',\n",
              " 'o',\n",
              " 'd',\n",
              " ' ',\n",
              " 'b',\n",
              " 'o',\n",
              " 'y',\n",
              " 'bad boy',\n",
              " 8,\n",
              " 9,\n",
              " 10,\n",
              " 11]"
            ]
          },
          "metadata": {},
          "execution_count": 37
        }
      ]
    },
    {
      "cell_type": "code",
      "source": [],
      "metadata": {
        "id": "0ZIfT6x_K7HJ"
      },
      "execution_count": null,
      "outputs": []
    },
    {
      "cell_type": "code",
      "source": [
        "l.index('g')"
      ],
      "metadata": {
        "colab": {
          "base_uri": "https://localhost:8080/"
        },
        "id": "FQglxTHTK2D9",
        "outputId": "97299fa1-f5e1-4403-a183-6df7485f5536"
      },
      "execution_count": null,
      "outputs": [
        {
          "output_type": "execute_result",
          "data": {
            "text/plain": [
              "8"
            ]
          },
          "metadata": {},
          "execution_count": 38
        }
      ]
    },
    {
      "cell_type": "code",
      "source": [
        "l"
      ],
      "metadata": {
        "colab": {
          "base_uri": "https://localhost:8080/"
        },
        "id": "CSD949YRLEEn",
        "outputId": "53f1d243-0062-40e8-d0a0-69b1d14b19d9"
      },
      "execution_count": null,
      "outputs": [
        {
          "output_type": "execute_result",
          "data": {
            "text/plain": [
              "[0,\n",
              " 1,\n",
              " 2,\n",
              " 3,\n",
              " 4,\n",
              " 5,\n",
              " 6,\n",
              " [7, 8.52],\n",
              " 'g',\n",
              " 'o',\n",
              " 'o',\n",
              " 'd',\n",
              " ' ',\n",
              " 'b',\n",
              " 'o',\n",
              " 'y',\n",
              " 'bad boy',\n",
              " 8,\n",
              " 9,\n",
              " 10,\n",
              " 11]"
            ]
          },
          "metadata": {},
          "execution_count": 39
        }
      ]
    },
    {
      "cell_type": "code",
      "source": [
        "l.insert(4,'Four')\n",
        "l"
      ],
      "metadata": {
        "colab": {
          "base_uri": "https://localhost:8080/"
        },
        "id": "3m5mUvEHLBUX",
        "outputId": "b7bebfb9-ce00-4c27-e338-ab48e541e689"
      },
      "execution_count": null,
      "outputs": [
        {
          "output_type": "execute_result",
          "data": {
            "text/plain": [
              "[0,\n",
              " 1,\n",
              " 2,\n",
              " 3,\n",
              " 'Four',\n",
              " 4,\n",
              " 5,\n",
              " 6,\n",
              " [7, 8.52],\n",
              " 'g',\n",
              " 'o',\n",
              " 'o',\n",
              " 'd',\n",
              " ' ',\n",
              " 'b',\n",
              " 'o',\n",
              " 'y',\n",
              " 'bad boy',\n",
              " 8,\n",
              " 9,\n",
              " 10,\n",
              " 11]"
            ]
          },
          "metadata": {},
          "execution_count": 40
        }
      ]
    },
    {
      "cell_type": "code",
      "source": [
        "l.insert(10,'Ten')\n",
        "l"
      ],
      "metadata": {
        "colab": {
          "base_uri": "https://localhost:8080/"
        },
        "id": "kU5DC94fLLbr",
        "outputId": "c9323a3a-6ff5-4150-8a9e-e1a613f26256"
      },
      "execution_count": null,
      "outputs": [
        {
          "output_type": "execute_result",
          "data": {
            "text/plain": [
              "[0,\n",
              " 1,\n",
              " 2,\n",
              " 3,\n",
              " 'Four',\n",
              " 4,\n",
              " 5,\n",
              " 6,\n",
              " [7, 8.52],\n",
              " 'g',\n",
              " 'Ten',\n",
              " 'o',\n",
              " 'o',\n",
              " 'd',\n",
              " ' ',\n",
              " 'b',\n",
              " 'o',\n",
              " 'y',\n",
              " 'bad boy',\n",
              " 8,\n",
              " 9,\n",
              " 10,\n",
              " 11]"
            ]
          },
          "metadata": {},
          "execution_count": 41
        }
      ]
    },
    {
      "cell_type": "code",
      "source": [
        "l.sort()"
      ],
      "metadata": {
        "colab": {
          "base_uri": "https://localhost:8080/",
          "height": 146
        },
        "id": "gBLEYO1XLRHd",
        "outputId": "9e1bfb05-6e63-4019-f7fc-16684708f860"
      },
      "execution_count": null,
      "outputs": [
        {
          "output_type": "error",
          "ename": "TypeError",
          "evalue": "'<' not supported between instances of 'str' and 'int'",
          "traceback": [
            "\u001b[0;31m---------------------------------------------------------------------------\u001b[0m",
            "\u001b[0;31mTypeError\u001b[0m                                 Traceback (most recent call last)",
            "\u001b[0;32m<ipython-input-42-fb07ac7c73ab>\u001b[0m in \u001b[0;36m<cell line: 0>\u001b[0;34m()\u001b[0m\n\u001b[0;32m----> 1\u001b[0;31m \u001b[0ml\u001b[0m\u001b[0;34m.\u001b[0m\u001b[0msort\u001b[0m\u001b[0;34m(\u001b[0m\u001b[0;34m)\u001b[0m\u001b[0;34m\u001b[0m\u001b[0;34m\u001b[0m\u001b[0m\n\u001b[0m",
            "\u001b[0;31mTypeError\u001b[0m: '<' not supported between instances of 'str' and 'int'"
          ]
        }
      ]
    },
    {
      "cell_type": "code",
      "source": [
        "def is_int(a):\n",
        "  if type(a)==int:\n",
        "    return True\n",
        "  else:\n",
        "    return False\n",
        "l1 = list(filter(is_int,l))\n",
        "l1"
      ],
      "metadata": {
        "colab": {
          "base_uri": "https://localhost:8080/"
        },
        "id": "ETQwOhRULXQi",
        "outputId": "d2b96acf-bdad-4b0e-8129-cea10eb5df76"
      },
      "execution_count": null,
      "outputs": [
        {
          "output_type": "execute_result",
          "data": {
            "text/plain": [
              "[0, 1, 2, 3, 4, 5, 6, 8, 9, 10, 11]"
            ]
          },
          "metadata": {},
          "execution_count": 46
        }
      ]
    },
    {
      "cell_type": "code",
      "source": [
        "l1 = list(filter(lambda x:type(x)==int,l))\n",
        "l1"
      ],
      "metadata": {
        "colab": {
          "base_uri": "https://localhost:8080/"
        },
        "id": "kcUL27O6MB41",
        "outputId": "9373cb12-dc14-4255-df61-b4d3b9d1219b"
      },
      "execution_count": null,
      "outputs": [
        {
          "output_type": "execute_result",
          "data": {
            "text/plain": [
              "[0, 1, 2, 3, 4, 5, 6, 8, 9, 10, 11]"
            ]
          },
          "metadata": {},
          "execution_count": 52
        }
      ]
    },
    {
      "cell_type": "code",
      "source": [
        "l1.pop()"
      ],
      "metadata": {
        "colab": {
          "base_uri": "https://localhost:8080/"
        },
        "id": "iI22_DY6MLBO",
        "outputId": "29c21dfc-a268-4b8c-a2af-ce03fcaebf4f"
      },
      "execution_count": null,
      "outputs": [
        {
          "output_type": "execute_result",
          "data": {
            "text/plain": [
              "11"
            ]
          },
          "metadata": {},
          "execution_count": 53
        }
      ]
    },
    {
      "cell_type": "code",
      "source": [
        "l2 = l1.reverse()\n",
        "l2"
      ],
      "metadata": {
        "id": "7rX2YIT_MP-p"
      },
      "execution_count": null,
      "outputs": []
    },
    {
      "cell_type": "code",
      "source": [
        "l1"
      ],
      "metadata": {
        "colab": {
          "base_uri": "https://localhost:8080/"
        },
        "id": "VjFFf1EiMYAH",
        "outputId": "914ff4ac-70f3-4532-acac-eb44a984c6b3"
      },
      "execution_count": null,
      "outputs": [
        {
          "output_type": "execute_result",
          "data": {
            "text/plain": [
              "[10, 9, 8, 6, 5, 4, 3, 2, 1, 0]"
            ]
          },
          "metadata": {},
          "execution_count": 55
        }
      ]
    },
    {
      "cell_type": "code",
      "source": [
        "l2 = l1.sort()\n",
        "l2"
      ],
      "metadata": {
        "id": "1nX3bzRdMcNn"
      },
      "execution_count": null,
      "outputs": []
    },
    {
      "cell_type": "code",
      "source": [
        "l1.reverse()\n",
        "l1"
      ],
      "metadata": {
        "colab": {
          "base_uri": "https://localhost:8080/"
        },
        "id": "A9eC43gRMoIx",
        "outputId": "0abf84dc-2a32-48fd-b814-55afeee2e2ec"
      },
      "execution_count": null,
      "outputs": [
        {
          "output_type": "execute_result",
          "data": {
            "text/plain": [
              "[10, 9, 8, 6, 5, 4, 3, 2, 1, 0]"
            ]
          },
          "metadata": {},
          "execution_count": 59
        }
      ]
    },
    {
      "cell_type": "code",
      "source": [
        "l1.sort()\n",
        "l1"
      ],
      "metadata": {
        "colab": {
          "base_uri": "https://localhost:8080/"
        },
        "id": "Mq4wXg-1Muia",
        "outputId": "aabe68c1-4bec-4f11-94a1-f9be042bd697"
      },
      "execution_count": null,
      "outputs": [
        {
          "output_type": "execute_result",
          "data": {
            "text/plain": [
              "[0, 1, 2, 3, 4, 5, 6, 8, 9, 10]"
            ]
          },
          "metadata": {},
          "execution_count": 60
        }
      ]
    },
    {
      "cell_type": "code",
      "source": [
        "l1.reverse()"
      ],
      "metadata": {
        "id": "bBozE2UKM1Nb"
      },
      "execution_count": null,
      "outputs": []
    },
    {
      "cell_type": "code",
      "source": [
        "l1"
      ],
      "metadata": {
        "colab": {
          "base_uri": "https://localhost:8080/"
        },
        "id": "QpcLNyZTM3jp",
        "outputId": "cdf83136-73e3-41c2-ef37-6e932ea447ae"
      },
      "execution_count": null,
      "outputs": [
        {
          "output_type": "execute_result",
          "data": {
            "text/plain": [
              "[10, 9, 8, 6, 5, 4, 3, 2, 1, 0]"
            ]
          },
          "metadata": {},
          "execution_count": 62
        }
      ]
    },
    {
      "cell_type": "code",
      "source": [
        "l1.pop(2)"
      ],
      "metadata": {
        "colab": {
          "base_uri": "https://localhost:8080/"
        },
        "id": "IaH2MOE6M4bc",
        "outputId": "1fed5226-a8b6-488c-d0b9-a281bb9c17ac"
      },
      "execution_count": null,
      "outputs": [
        {
          "output_type": "execute_result",
          "data": {
            "text/plain": [
              "8"
            ]
          },
          "metadata": {},
          "execution_count": 63
        }
      ]
    },
    {
      "cell_type": "code",
      "source": [
        "l1.pop(2)"
      ],
      "metadata": {
        "colab": {
          "base_uri": "https://localhost:8080/"
        },
        "id": "PoNqCpdcM6w3",
        "outputId": "82f7352b-90e6-4718-e738-5756109ff99f"
      },
      "execution_count": null,
      "outputs": [
        {
          "output_type": "execute_result",
          "data": {
            "text/plain": [
              "6"
            ]
          },
          "metadata": {},
          "execution_count": 64
        }
      ]
    },
    {
      "cell_type": "code",
      "source": [
        "l1"
      ],
      "metadata": {
        "colab": {
          "base_uri": "https://localhost:8080/"
        },
        "id": "2Rk44q4jM9-e",
        "outputId": "a4ce2eed-af59-41a6-ee3d-a319f0fb5980"
      },
      "execution_count": null,
      "outputs": [
        {
          "output_type": "execute_result",
          "data": {
            "text/plain": [
              "[10, 9, 5, 4, 3, 2, 1, 0]"
            ]
          },
          "metadata": {},
          "execution_count": 65
        }
      ]
    },
    {
      "cell_type": "code",
      "source": [
        "l1.remove(2)"
      ],
      "metadata": {
        "id": "WyGhYNl3M-4N"
      },
      "execution_count": null,
      "outputs": []
    },
    {
      "cell_type": "code",
      "source": [
        "l1"
      ],
      "metadata": {
        "colab": {
          "base_uri": "https://localhost:8080/"
        },
        "id": "8zSOK3SuNA1s",
        "outputId": "d838d4cd-49e8-4094-b280-63df4fb912c9"
      },
      "execution_count": null,
      "outputs": [
        {
          "output_type": "execute_result",
          "data": {
            "text/plain": [
              "[10, 9, 5, 4, 3, 1, 0]"
            ]
          },
          "metadata": {},
          "execution_count": 67
        }
      ]
    },
    {
      "cell_type": "code",
      "source": [
        "l1.sort(reverse = True)"
      ],
      "metadata": {
        "id": "A5qj_1cJNGwg"
      },
      "execution_count": null,
      "outputs": []
    },
    {
      "cell_type": "code",
      "source": [
        "l1"
      ],
      "metadata": {
        "colab": {
          "base_uri": "https://localhost:8080/"
        },
        "id": "jAlPNC7eNKEu",
        "outputId": "0443358c-6471-4fe8-e979-42ea2e23e662"
      },
      "execution_count": null,
      "outputs": [
        {
          "output_type": "execute_result",
          "data": {
            "text/plain": [
              "[10, 9, 5, 4, 3, 1, 0]"
            ]
          },
          "metadata": {},
          "execution_count": 69
        }
      ]
    },
    {
      "cell_type": "code",
      "source": [
        "l1.sort(reverse = True)\n",
        "l1"
      ],
      "metadata": {
        "colab": {
          "base_uri": "https://localhost:8080/"
        },
        "id": "RFlVWEQTNMpS",
        "outputId": "05e06b4a-57bd-423b-906c-6d1c23e211b8"
      },
      "execution_count": null,
      "outputs": [
        {
          "output_type": "execute_result",
          "data": {
            "text/plain": [
              "[10, 9, 5, 4, 3, 1, 0]"
            ]
          },
          "metadata": {},
          "execution_count": 73
        }
      ]
    },
    {
      "cell_type": "code",
      "source": [
        "l1.sort()\n",
        "l1"
      ],
      "metadata": {
        "colab": {
          "base_uri": "https://localhost:8080/"
        },
        "id": "wFr0GEnYNOJq",
        "outputId": "3bcc5bab-96cc-42ec-b7ad-057f0dd93cc9"
      },
      "execution_count": null,
      "outputs": [
        {
          "output_type": "execute_result",
          "data": {
            "text/plain": [
              "[0, 1, 3, 4, 5, 9, 10]"
            ]
          },
          "metadata": {},
          "execution_count": 74
        }
      ]
    },
    {
      "cell_type": "code",
      "source": [
        "for i in dir(tuple):\n",
        "  if '__' not in i:\n",
        "    print(i)"
      ],
      "metadata": {
        "colab": {
          "base_uri": "https://localhost:8080/"
        },
        "id": "qHY8GhY2NRiA",
        "outputId": "a746a772-be2b-4cdd-9789-3c2e98876589"
      },
      "execution_count": null,
      "outputs": [
        {
          "output_type": "stream",
          "name": "stdout",
          "text": [
            "count\n",
            "index\n"
          ]
        }
      ]
    },
    {
      "cell_type": "code",
      "source": [
        "t = (1,2,3,4,5,6,7,8,9)"
      ],
      "metadata": {
        "id": "suTT5kXLNXUD"
      },
      "execution_count": null,
      "outputs": []
    },
    {
      "cell_type": "code",
      "source": [
        "t.index(5)"
      ],
      "metadata": {
        "colab": {
          "base_uri": "https://localhost:8080/"
        },
        "id": "Mz39KsmwNb_P",
        "outputId": "05efce15-2734-41c1-b97f-096c657af4db"
      },
      "execution_count": null,
      "outputs": [
        {
          "output_type": "execute_result",
          "data": {
            "text/plain": [
              "4"
            ]
          },
          "metadata": {},
          "execution_count": 77
        }
      ]
    },
    {
      "cell_type": "code",
      "source": [
        "t.count(5)"
      ],
      "metadata": {
        "colab": {
          "base_uri": "https://localhost:8080/"
        },
        "id": "mxBlK9RfNezO",
        "outputId": "f35cb584-49f0-49e0-9b0d-29bc6b73de12"
      },
      "execution_count": null,
      "outputs": [
        {
          "output_type": "execute_result",
          "data": {
            "text/plain": [
              "1"
            ]
          },
          "metadata": {},
          "execution_count": 78
        }
      ]
    },
    {
      "cell_type": "code",
      "source": [
        "for i in dir(set):\n",
        "  if '__' not in i:\n",
        "    print(i)"
      ],
      "metadata": {
        "colab": {
          "base_uri": "https://localhost:8080/"
        },
        "id": "uahwV6V-Ngjb",
        "outputId": "e607e159-36dd-4a16-dd21-3a44364389fb"
      },
      "execution_count": null,
      "outputs": [
        {
          "output_type": "stream",
          "name": "stdout",
          "text": [
            "add\n",
            "clear\n",
            "copy\n",
            "difference\n",
            "difference_update\n",
            "discard\n",
            "intersection\n",
            "intersection_update\n",
            "isdisjoint\n",
            "issubset\n",
            "issuperset\n",
            "pop\n",
            "remove\n",
            "symmetric_difference\n",
            "symmetric_difference_update\n",
            "union\n",
            "update\n"
          ]
        }
      ]
    },
    {
      "cell_type": "code",
      "source": [
        "s = {0,0,0,2,2,6,9,5,4,1,3,8,7,4,3,2,1,1,2,4,6,9,9,9,9,9,7,8,6,5,4,3,2,1,3,3,4,5,6,7}\n",
        "s"
      ],
      "metadata": {
        "colab": {
          "base_uri": "https://localhost:8080/"
        },
        "id": "DymVePfsNmEg",
        "outputId": "64f24041-3104-4f32-848f-86c392abb754"
      },
      "execution_count": null,
      "outputs": [
        {
          "output_type": "execute_result",
          "data": {
            "text/plain": [
              "{0, 1, 2, 3, 4, 5, 6, 7, 8, 9}"
            ]
          },
          "metadata": {},
          "execution_count": 81
        }
      ]
    },
    {
      "cell_type": "code",
      "source": [
        "s.add(11)\n",
        "s"
      ],
      "metadata": {
        "colab": {
          "base_uri": "https://localhost:8080/"
        },
        "id": "qKQghbDtN7gA",
        "outputId": "02a483eb-6d68-4a2a-cc8b-3df309f0fd41"
      },
      "execution_count": null,
      "outputs": [
        {
          "output_type": "execute_result",
          "data": {
            "text/plain": [
              "{0, 1, 2, 3, 4, 5, 6, 7, 8, 9, 11}"
            ]
          },
          "metadata": {},
          "execution_count": 82
        }
      ]
    },
    {
      "cell_type": "code",
      "source": [
        "s.add(4)\n",
        "s"
      ],
      "metadata": {
        "colab": {
          "base_uri": "https://localhost:8080/"
        },
        "id": "pKwrIt_HOBLh",
        "outputId": "1d91791b-587d-4960-856c-bab44ad610e1"
      },
      "execution_count": null,
      "outputs": [
        {
          "output_type": "execute_result",
          "data": {
            "text/plain": [
              "{0, 1, 2, 3, 4, 5, 6, 7, 8, 9, 11}"
            ]
          },
          "metadata": {},
          "execution_count": 83
        }
      ]
    },
    {
      "cell_type": "code",
      "source": [
        "s.add(22)"
      ],
      "metadata": {
        "id": "Y-dk66lbODJR"
      },
      "execution_count": null,
      "outputs": []
    },
    {
      "cell_type": "code",
      "source": [
        "s1 = {1,4,7,9,10}\n",
        "s1"
      ],
      "metadata": {
        "colab": {
          "base_uri": "https://localhost:8080/"
        },
        "id": "z8xj9bumOHRV",
        "outputId": "c29452ca-e392-4b30-920b-a63749b3b264"
      },
      "execution_count": null,
      "outputs": [
        {
          "output_type": "execute_result",
          "data": {
            "text/plain": [
              "{1, 4, 7, 9, 10}"
            ]
          },
          "metadata": {},
          "execution_count": 87
        }
      ]
    },
    {
      "cell_type": "code",
      "source": [
        "s1.add(2)\n",
        "s1"
      ],
      "metadata": {
        "colab": {
          "base_uri": "https://localhost:8080/"
        },
        "id": "iGVYDxfyOMDX",
        "outputId": "9fafc54e-d20a-4617-aa58-4dc8aa84354f"
      },
      "execution_count": null,
      "outputs": [
        {
          "output_type": "execute_result",
          "data": {
            "text/plain": [
              "{1, 2, 4, 7, 9, 10}"
            ]
          },
          "metadata": {},
          "execution_count": 88
        }
      ]
    },
    {
      "cell_type": "code",
      "source": [
        "s1 = {1,3,5}\n",
        "s2 = {1,2,3,4,5}\n",
        "s3 = {5,6,7,8}\n",
        "s4 = {11,22,33}"
      ],
      "metadata": {
        "id": "TmlAZO00ONxo"
      },
      "execution_count": null,
      "outputs": []
    },
    {
      "cell_type": "code",
      "source": [
        "s2.difference(s3)"
      ],
      "metadata": {
        "colab": {
          "base_uri": "https://localhost:8080/"
        },
        "id": "yMB3gtbNOeXl",
        "outputId": "a83657b0-f24a-45a2-d8be-0287358bf962"
      },
      "execution_count": null,
      "outputs": [
        {
          "output_type": "execute_result",
          "data": {
            "text/plain": [
              "{1, 2, 3, 4}"
            ]
          },
          "metadata": {},
          "execution_count": 90
        }
      ]
    },
    {
      "cell_type": "code",
      "source": [
        "s2 - s1"
      ],
      "metadata": {
        "colab": {
          "base_uri": "https://localhost:8080/"
        },
        "id": "RKDvtMqtOl6H",
        "outputId": "1f73ab88-d726-4d7b-817c-1ed6c1bd75ae"
      },
      "execution_count": null,
      "outputs": [
        {
          "output_type": "execute_result",
          "data": {
            "text/plain": [
              "{2, 4}"
            ]
          },
          "metadata": {},
          "execution_count": 91
        }
      ]
    },
    {
      "cell_type": "code",
      "source": [
        "s2-s3"
      ],
      "metadata": {
        "colab": {
          "base_uri": "https://localhost:8080/"
        },
        "id": "OXSLq1JkOqDH",
        "outputId": "00588017-c44c-4235-cbc3-408260ededc3"
      },
      "execution_count": null,
      "outputs": [
        {
          "output_type": "execute_result",
          "data": {
            "text/plain": [
              "{1, 2, 3, 4}"
            ]
          },
          "metadata": {},
          "execution_count": 92
        }
      ]
    },
    {
      "cell_type": "code",
      "source": [
        "s2.discard(6)"
      ],
      "metadata": {
        "id": "Rdcvp-75Os1V"
      },
      "execution_count": null,
      "outputs": []
    },
    {
      "cell_type": "code",
      "source": [
        "s3.discard(1)"
      ],
      "metadata": {
        "id": "EmdADL6fOxVi"
      },
      "execution_count": null,
      "outputs": []
    },
    {
      "cell_type": "code",
      "source": [
        "s3.discard(6)"
      ],
      "metadata": {
        "id": "WR3zlhBkO1aN"
      },
      "execution_count": null,
      "outputs": []
    },
    {
      "cell_type": "code",
      "source": [
        "s3"
      ],
      "metadata": {
        "colab": {
          "base_uri": "https://localhost:8080/"
        },
        "id": "IEi91HTSO4Uk",
        "outputId": "157d0f0c-5857-46b2-efe9-bf7d6d494c38"
      },
      "execution_count": null,
      "outputs": [
        {
          "output_type": "execute_result",
          "data": {
            "text/plain": [
              "{5, 7, 8}"
            ]
          },
          "metadata": {},
          "execution_count": 96
        }
      ]
    },
    {
      "cell_type": "code",
      "source": [
        "print(s1)\n",
        "print(s2)\n",
        "print(s3)\n",
        "print(s4)"
      ],
      "metadata": {
        "colab": {
          "base_uri": "https://localhost:8080/"
        },
        "id": "1LiLuWljO5fk",
        "outputId": "2982d387-d294-4b4a-c0a9-5ba6690a811a"
      },
      "execution_count": null,
      "outputs": [
        {
          "output_type": "stream",
          "name": "stdout",
          "text": [
            "{1, 3, 5}\n",
            "{1, 2, 3, 4, 5}\n",
            "{8, 5, 7}\n",
            "{33, 11, 22}\n"
          ]
        }
      ]
    },
    {
      "cell_type": "code",
      "source": [
        "s1.intersection(s2)"
      ],
      "metadata": {
        "colab": {
          "base_uri": "https://localhost:8080/"
        },
        "id": "AO1ISS1xPARr",
        "outputId": "8f65f320-2fe1-4bb6-c5b5-3c2e4a915f26"
      },
      "execution_count": null,
      "outputs": [
        {
          "output_type": "execute_result",
          "data": {
            "text/plain": [
              "{1, 3, 5}"
            ]
          },
          "metadata": {},
          "execution_count": 98
        }
      ]
    },
    {
      "cell_type": "code",
      "source": [
        "s1&s3"
      ],
      "metadata": {
        "colab": {
          "base_uri": "https://localhost:8080/"
        },
        "id": "ctgb4oOPPEZv",
        "outputId": "0ca5a06e-d191-4fb8-8602-b479bec08a9b"
      },
      "execution_count": null,
      "outputs": [
        {
          "output_type": "execute_result",
          "data": {
            "text/plain": [
              "{5}"
            ]
          },
          "metadata": {},
          "execution_count": 99
        }
      ]
    },
    {
      "cell_type": "code",
      "source": [
        "s1&s2"
      ],
      "metadata": {
        "colab": {
          "base_uri": "https://localhost:8080/"
        },
        "id": "-jRQidW6PJFq",
        "outputId": "6c6b87ad-81f2-45b0-d349-f02f1712666f"
      },
      "execution_count": null,
      "outputs": [
        {
          "output_type": "execute_result",
          "data": {
            "text/plain": [
              "{1, 3, 5}"
            ]
          },
          "metadata": {},
          "execution_count": 100
        }
      ]
    },
    {
      "cell_type": "code",
      "source": [
        "s1.isdisjoint(s2)"
      ],
      "metadata": {
        "colab": {
          "base_uri": "https://localhost:8080/"
        },
        "id": "LW3Osgs_PNer",
        "outputId": "04967545-463f-4651-b36c-99b4f8dd8c80"
      },
      "execution_count": null,
      "outputs": [
        {
          "output_type": "execute_result",
          "data": {
            "text/plain": [
              "False"
            ]
          },
          "metadata": {},
          "execution_count": 101
        }
      ]
    },
    {
      "cell_type": "code",
      "source": [
        "s1.isdisjoint(s4)"
      ],
      "metadata": {
        "colab": {
          "base_uri": "https://localhost:8080/"
        },
        "id": "Gjyys7nQPRCy",
        "outputId": "4de3723c-62ae-4cde-ea31-1d9a46a75f37"
      },
      "execution_count": null,
      "outputs": [
        {
          "output_type": "execute_result",
          "data": {
            "text/plain": [
              "True"
            ]
          },
          "metadata": {},
          "execution_count": 102
        }
      ]
    },
    {
      "cell_type": "code",
      "source": [
        "s1.issubset(s2)"
      ],
      "metadata": {
        "colab": {
          "base_uri": "https://localhost:8080/"
        },
        "id": "k4ZVcDRWPTEM",
        "outputId": "fe693446-2249-4a00-b2c2-af82a6334f51"
      },
      "execution_count": null,
      "outputs": [
        {
          "output_type": "execute_result",
          "data": {
            "text/plain": [
              "True"
            ]
          },
          "metadata": {},
          "execution_count": 103
        }
      ]
    },
    {
      "cell_type": "code",
      "source": [
        "s3.issubset(s4)"
      ],
      "metadata": {
        "colab": {
          "base_uri": "https://localhost:8080/"
        },
        "id": "71uSbqt1PYnL",
        "outputId": "53bd3bab-97b5-4d06-859b-30d4f66f460c"
      },
      "execution_count": null,
      "outputs": [
        {
          "output_type": "execute_result",
          "data": {
            "text/plain": [
              "False"
            ]
          },
          "metadata": {},
          "execution_count": 104
        }
      ]
    },
    {
      "cell_type": "code",
      "source": [
        "s1 = {1,2,3}\n",
        "s2 = {1,2,3,4,5}"
      ],
      "metadata": {
        "id": "r1xRKR8mPcXz"
      },
      "execution_count": null,
      "outputs": []
    },
    {
      "cell_type": "code",
      "source": [
        "s1.issubset(s2)"
      ],
      "metadata": {
        "colab": {
          "base_uri": "https://localhost:8080/"
        },
        "id": "oIEJcFhCPf2m",
        "outputId": "ead504d7-f556-4080-b26d-211629152bc3"
      },
      "execution_count": null,
      "outputs": [
        {
          "output_type": "execute_result",
          "data": {
            "text/plain": [
              "True"
            ]
          },
          "metadata": {},
          "execution_count": 106
        }
      ]
    },
    {
      "cell_type": "code",
      "source": [
        "s2.issubset(s1)"
      ],
      "metadata": {
        "colab": {
          "base_uri": "https://localhost:8080/"
        },
        "id": "_r3h0mmxPibx",
        "outputId": "cfe7da20-1d18-4f40-d2f7-fd3d8e41d9d0"
      },
      "execution_count": null,
      "outputs": [
        {
          "output_type": "execute_result",
          "data": {
            "text/plain": [
              "False"
            ]
          },
          "metadata": {},
          "execution_count": 107
        }
      ]
    },
    {
      "cell_type": "code",
      "source": [
        "s1.issuperset(s2)"
      ],
      "metadata": {
        "colab": {
          "base_uri": "https://localhost:8080/"
        },
        "id": "YK15BkfzPkH_",
        "outputId": "91b84bce-5f39-4189-d3db-75fc110cf3e2"
      },
      "execution_count": null,
      "outputs": [
        {
          "output_type": "execute_result",
          "data": {
            "text/plain": [
              "False"
            ]
          },
          "metadata": {},
          "execution_count": 108
        }
      ]
    },
    {
      "cell_type": "code",
      "source": [
        "s2.issuperset(s1)"
      ],
      "metadata": {
        "colab": {
          "base_uri": "https://localhost:8080/"
        },
        "id": "d5XZ8KP6PmlG",
        "outputId": "a913f996-6088-42b2-93f2-a10eb5c5c531"
      },
      "execution_count": null,
      "outputs": [
        {
          "output_type": "execute_result",
          "data": {
            "text/plain": [
              "True"
            ]
          },
          "metadata": {},
          "execution_count": 109
        }
      ]
    },
    {
      "cell_type": "code",
      "source": [
        "s2.pop()"
      ],
      "metadata": {
        "colab": {
          "base_uri": "https://localhost:8080/"
        },
        "id": "UGCKFqnoPppL",
        "outputId": "43046738-8682-4a43-9e77-3f76df485bbb"
      },
      "execution_count": null,
      "outputs": [
        {
          "output_type": "execute_result",
          "data": {
            "text/plain": [
              "1"
            ]
          },
          "metadata": {},
          "execution_count": 110
        }
      ]
    },
    {
      "cell_type": "code",
      "source": [
        "s2.pop(3)"
      ],
      "metadata": {
        "colab": {
          "base_uri": "https://localhost:8080/",
          "height": 146
        },
        "id": "_B_HwDpBPuDH",
        "outputId": "518570d3-b797-49c8-a81c-4e60fe9ddd45"
      },
      "execution_count": null,
      "outputs": [
        {
          "output_type": "error",
          "ename": "TypeError",
          "evalue": "set.pop() takes no arguments (1 given)",
          "traceback": [
            "\u001b[0;31m---------------------------------------------------------------------------\u001b[0m",
            "\u001b[0;31mTypeError\u001b[0m                                 Traceback (most recent call last)",
            "\u001b[0;32m<ipython-input-111-fcfe80dd88b7>\u001b[0m in \u001b[0;36m<cell line: 0>\u001b[0;34m()\u001b[0m\n\u001b[0;32m----> 1\u001b[0;31m \u001b[0ms2\u001b[0m\u001b[0;34m.\u001b[0m\u001b[0mpop\u001b[0m\u001b[0;34m(\u001b[0m\u001b[0;36m3\u001b[0m\u001b[0;34m)\u001b[0m\u001b[0;34m\u001b[0m\u001b[0;34m\u001b[0m\u001b[0m\n\u001b[0m",
            "\u001b[0;31mTypeError\u001b[0m: set.pop() takes no arguments (1 given)"
          ]
        }
      ]
    },
    {
      "cell_type": "code",
      "source": [
        "s2.pop()"
      ],
      "metadata": {
        "colab": {
          "base_uri": "https://localhost:8080/"
        },
        "id": "q_HSSeoKPx7p",
        "outputId": "92962b61-5748-460f-f75b-61b6c8dfceee"
      },
      "execution_count": null,
      "outputs": [
        {
          "output_type": "execute_result",
          "data": {
            "text/plain": [
              "2"
            ]
          },
          "metadata": {},
          "execution_count": 112
        }
      ]
    },
    {
      "cell_type": "code",
      "source": [
        "s2"
      ],
      "metadata": {
        "colab": {
          "base_uri": "https://localhost:8080/"
        },
        "id": "R-7iM-YdP0Rh",
        "outputId": "e2ffa08c-1aae-4d37-b6fc-61968d21543b"
      },
      "execution_count": null,
      "outputs": [
        {
          "output_type": "execute_result",
          "data": {
            "text/plain": [
              "{3, 4, 5}"
            ]
          },
          "metadata": {},
          "execution_count": 113
        }
      ]
    },
    {
      "cell_type": "code",
      "source": [
        "s2.remove(4)"
      ],
      "metadata": {
        "id": "FqlT0AWnP1Qj"
      },
      "execution_count": null,
      "outputs": []
    },
    {
      "cell_type": "code",
      "source": [
        "s2"
      ],
      "metadata": {
        "colab": {
          "base_uri": "https://localhost:8080/"
        },
        "id": "jD0thnEoP2-O",
        "outputId": "422dc1d2-31b1-4367-ed03-3e9ead0a96a2"
      },
      "execution_count": null,
      "outputs": [
        {
          "output_type": "execute_result",
          "data": {
            "text/plain": [
              "{3, 5}"
            ]
          },
          "metadata": {},
          "execution_count": 115
        }
      ]
    },
    {
      "cell_type": "code",
      "source": [
        "print(s1)\n",
        "print(s2)\n",
        "print(s3)\n",
        "print(s4)"
      ],
      "metadata": {
        "colab": {
          "base_uri": "https://localhost:8080/"
        },
        "id": "eKHYd3ahP5Zd",
        "outputId": "34d7f9ca-58cf-437d-d933-2a38d8404b63"
      },
      "execution_count": null,
      "outputs": [
        {
          "output_type": "stream",
          "name": "stdout",
          "text": [
            "{1, 2, 3}\n",
            "{3, 5}\n",
            "{8, 5, 7}\n",
            "{33, 11, 22}\n"
          ]
        }
      ]
    },
    {
      "cell_type": "code",
      "source": [
        "s1.union(s3)"
      ],
      "metadata": {
        "colab": {
          "base_uri": "https://localhost:8080/"
        },
        "id": "JoiLE7ztQAkB",
        "outputId": "0b738ec9-ccdf-4940-a7f5-aa1e5fe010c2"
      },
      "execution_count": null,
      "outputs": [
        {
          "output_type": "execute_result",
          "data": {
            "text/plain": [
              "{1, 2, 3, 5, 7, 8}"
            ]
          },
          "metadata": {},
          "execution_count": 117
        }
      ]
    },
    {
      "cell_type": "code",
      "source": [
        "s1|s4"
      ],
      "metadata": {
        "colab": {
          "base_uri": "https://localhost:8080/"
        },
        "id": "HeisrmXpQCwh",
        "outputId": "d292c557-f4e8-4f04-b7e7-f18bde22c23b"
      },
      "execution_count": null,
      "outputs": [
        {
          "output_type": "execute_result",
          "data": {
            "text/plain": [
              "{1, 2, 3, 11, 22, 33}"
            ]
          },
          "metadata": {},
          "execution_count": 118
        }
      ]
    },
    {
      "cell_type": "code",
      "source": [
        "s1"
      ],
      "metadata": {
        "colab": {
          "base_uri": "https://localhost:8080/"
        },
        "id": "cXmu8iFYQHTr",
        "outputId": "2669bd48-7e26-45a0-a3f7-9d7e0e7eedba"
      },
      "execution_count": null,
      "outputs": [
        {
          "output_type": "execute_result",
          "data": {
            "text/plain": [
              "{1, 2, 3}"
            ]
          },
          "metadata": {},
          "execution_count": 119
        }
      ]
    },
    {
      "cell_type": "code",
      "source": [
        "s1.update([4,5,6,7])\n",
        "s1"
      ],
      "metadata": {
        "colab": {
          "base_uri": "https://localhost:8080/"
        },
        "id": "6c6k_buLQILr",
        "outputId": "1256067a-ef71-432c-a0c2-febbe03e968f"
      },
      "execution_count": null,
      "outputs": [
        {
          "output_type": "execute_result",
          "data": {
            "text/plain": [
              "{1, 2, 3, 4, 5, 6, 7}"
            ]
          },
          "metadata": {},
          "execution_count": 120
        }
      ]
    },
    {
      "cell_type": "code",
      "source": [
        "s1.update({8,9})\n",
        "s1"
      ],
      "metadata": {
        "colab": {
          "base_uri": "https://localhost:8080/"
        },
        "id": "s6I5d9MBQMxJ",
        "outputId": "fdc4f111-acd6-4a9c-97ff-3168a7798379"
      },
      "execution_count": null,
      "outputs": [
        {
          "output_type": "execute_result",
          "data": {
            "text/plain": [
              "{1, 2, 3, 4, 5, 6, 7, 8, 9}"
            ]
          },
          "metadata": {},
          "execution_count": 121
        }
      ]
    },
    {
      "cell_type": "code",
      "source": [
        "s1.update((10,11))\n",
        "s1"
      ],
      "metadata": {
        "colab": {
          "base_uri": "https://localhost:8080/"
        },
        "id": "thqB8IHQQQUM",
        "outputId": "a03024b2-4a16-4640-8234-5dcce08d0010"
      },
      "execution_count": null,
      "outputs": [
        {
          "output_type": "execute_result",
          "data": {
            "text/plain": [
              "{1, 2, 3, 4, 5, 6, 7, 8, 9, 10, 11}"
            ]
          },
          "metadata": {},
          "execution_count": 122
        }
      ]
    },
    {
      "cell_type": "code",
      "source": [
        "s1.difference_update(s2)\n",
        "s1"
      ],
      "metadata": {
        "colab": {
          "base_uri": "https://localhost:8080/"
        },
        "id": "vjxKh4o9QTuq",
        "outputId": "8281e6cb-da70-4fa0-91fe-7e5ca5997426"
      },
      "execution_count": null,
      "outputs": [
        {
          "output_type": "execute_result",
          "data": {
            "text/plain": [
              "{1, 2, 4, 6, 7, 8, 9, 10, 11}"
            ]
          },
          "metadata": {},
          "execution_count": 123
        }
      ]
    },
    {
      "cell_type": "code",
      "source": [
        "s1 = {1,2,3,4}\n",
        "s2 = {4,5,6,7}\n",
        "s3 = {8,9,10}"
      ],
      "metadata": {
        "id": "12R7zEDQQaBl"
      },
      "execution_count": null,
      "outputs": []
    },
    {
      "cell_type": "code",
      "source": [
        "s1.difference_update(s2)\n",
        "s1"
      ],
      "metadata": {
        "colab": {
          "base_uri": "https://localhost:8080/"
        },
        "id": "RP6k9sh5Qfq-",
        "outputId": "903b72d2-c182-488e-dc80-4f91609c246d"
      },
      "execution_count": null,
      "outputs": [
        {
          "output_type": "execute_result",
          "data": {
            "text/plain": [
              "{1, 2, 3}"
            ]
          },
          "metadata": {},
          "execution_count": 125
        }
      ]
    },
    {
      "cell_type": "code",
      "source": [
        "s2.intersection({6,7,8,9,10})\n",
        "s2"
      ],
      "metadata": {
        "colab": {
          "base_uri": "https://localhost:8080/"
        },
        "id": "qUJ-NFKTQvFD",
        "outputId": "62cb73bb-7644-45a3-af13-511b46ddd645"
      },
      "execution_count": null,
      "outputs": [
        {
          "output_type": "execute_result",
          "data": {
            "text/plain": [
              "{4, 5, 6, 7}"
            ]
          },
          "metadata": {},
          "execution_count": 126
        }
      ]
    },
    {
      "cell_type": "code",
      "source": [
        "s1 = {1,2,3,4,5}\n",
        "s2 = {4,5,6,7,8}\n",
        "s1.intersection_update(s2)"
      ],
      "metadata": {
        "id": "djpfIUztQ5EM"
      },
      "execution_count": null,
      "outputs": []
    },
    {
      "cell_type": "code",
      "source": [
        "s1"
      ],
      "metadata": {
        "colab": {
          "base_uri": "https://localhost:8080/"
        },
        "id": "xhG2coNNQ-D2",
        "outputId": "bc35f22d-7ecc-4ddf-e82b-b5d27b00853e"
      },
      "execution_count": null,
      "outputs": [
        {
          "output_type": "execute_result",
          "data": {
            "text/plain": [
              "{4, 5}"
            ]
          },
          "metadata": {},
          "execution_count": 128
        }
      ]
    },
    {
      "cell_type": "code",
      "source": [
        "s2"
      ],
      "metadata": {
        "colab": {
          "base_uri": "https://localhost:8080/"
        },
        "id": "WCcBzAflRD4x",
        "outputId": "f679322c-7906-424f-d147-a31288da1712"
      },
      "execution_count": null,
      "outputs": [
        {
          "output_type": "execute_result",
          "data": {
            "text/plain": [
              "{4, 5, 6, 7, 8}"
            ]
          },
          "metadata": {},
          "execution_count": 129
        }
      ]
    },
    {
      "cell_type": "code",
      "source": [
        "print(s1)\n",
        "print(s2)\n",
        "s1.difference_update(s2)\n",
        "print(s1)\n",
        "print(s2)"
      ],
      "metadata": {
        "colab": {
          "base_uri": "https://localhost:8080/"
        },
        "id": "d6HShSDlRF1S",
        "outputId": "88d47a2b-661e-491d-a021-ca71c02dc1bf"
      },
      "execution_count": null,
      "outputs": [
        {
          "output_type": "stream",
          "name": "stdout",
          "text": [
            "{4, 5}\n",
            "{4, 5, 6, 7, 8}\n",
            "set()\n",
            "{4, 5, 6, 7, 8}\n"
          ]
        }
      ]
    },
    {
      "cell_type": "code",
      "source": [
        "s1.symmetric_difference(s2)"
      ],
      "metadata": {
        "colab": {
          "base_uri": "https://localhost:8080/"
        },
        "id": "PqiTSiqjRYHN",
        "outputId": "dbaf739e-01ff-40ed-edee-f1d030f42fb3"
      },
      "execution_count": null,
      "outputs": [
        {
          "output_type": "execute_result",
          "data": {
            "text/plain": [
              "{4, 5, 6, 7, 8}"
            ]
          },
          "metadata": {},
          "execution_count": 131
        }
      ]
    },
    {
      "cell_type": "code",
      "source": [
        "s1 = {1,2,3,4}\n",
        "s2 = {3,4,5,6}\n",
        "s1.symmetric_difference(s2)"
      ],
      "metadata": {
        "colab": {
          "base_uri": "https://localhost:8080/"
        },
        "id": "jFmYFxyXRalS",
        "outputId": "720a82ff-738b-48db-d044-230d78afbffb"
      },
      "execution_count": null,
      "outputs": [
        {
          "output_type": "execute_result",
          "data": {
            "text/plain": [
              "{1, 2, 5, 6}"
            ]
          },
          "metadata": {},
          "execution_count": 132
        }
      ]
    },
    {
      "cell_type": "code",
      "source": [
        "s1 = {1,2,3}\n",
        "s2 = {4,5,6}\n",
        "s1.symmetric_difference(s2)"
      ],
      "metadata": {
        "colab": {
          "base_uri": "https://localhost:8080/"
        },
        "id": "emvX0PczRhtP",
        "outputId": "92a30a48-b3eb-4673-e560-17f2e944a22c"
      },
      "execution_count": null,
      "outputs": [
        {
          "output_type": "execute_result",
          "data": {
            "text/plain": [
              "{1, 2, 3, 4, 5, 6}"
            ]
          },
          "metadata": {},
          "execution_count": 133
        }
      ]
    },
    {
      "cell_type": "code",
      "source": [
        "s1"
      ],
      "metadata": {
        "colab": {
          "base_uri": "https://localhost:8080/"
        },
        "id": "_eMvWKSQRmwX",
        "outputId": "eaf39d98-7574-45ac-b02f-5a7f9ef62067"
      },
      "execution_count": null,
      "outputs": [
        {
          "output_type": "execute_result",
          "data": {
            "text/plain": [
              "{1, 2, 3}"
            ]
          },
          "metadata": {},
          "execution_count": 134
        }
      ]
    },
    {
      "cell_type": "code",
      "source": [
        "s2"
      ],
      "metadata": {
        "colab": {
          "base_uri": "https://localhost:8080/"
        },
        "id": "hzjMH9RrRnsB",
        "outputId": "486a617e-1819-4a30-f65e-ddcd500a2c3d"
      },
      "execution_count": null,
      "outputs": [
        {
          "output_type": "execute_result",
          "data": {
            "text/plain": [
              "{4, 5, 6}"
            ]
          },
          "metadata": {},
          "execution_count": 135
        }
      ]
    },
    {
      "cell_type": "code",
      "source": [
        "s1.symmetric_difference_update(s2)"
      ],
      "metadata": {
        "id": "VZErqsCtRpoO"
      },
      "execution_count": null,
      "outputs": []
    },
    {
      "cell_type": "code",
      "source": [
        "print(s1)\n",
        "print(s2)"
      ],
      "metadata": {
        "colab": {
          "base_uri": "https://localhost:8080/"
        },
        "id": "DNFwPDItRrzf",
        "outputId": "dbf9c849-a9e4-4fa0-9003-66c0a2e149a3"
      },
      "execution_count": null,
      "outputs": [
        {
          "output_type": "stream",
          "name": "stdout",
          "text": [
            "{1, 2, 3, 4, 5, 6}\n",
            "{4, 5, 6}\n"
          ]
        }
      ]
    },
    {
      "cell_type": "code",
      "source": [
        "a = [1,2,3,4,5,[6,7]]\n"
      ],
      "metadata": {
        "id": "jXIlEOBiR0O3"
      },
      "execution_count": null,
      "outputs": []
    },
    {
      "cell_type": "code",
      "source": [
        "a[4]"
      ],
      "metadata": {
        "colab": {
          "base_uri": "https://localhost:8080/"
        },
        "id": "csn8eG-FR4X3",
        "outputId": "95ab1247-2d6b-4809-8769-bc46339a914b"
      },
      "execution_count": null,
      "outputs": [
        {
          "output_type": "execute_result",
          "data": {
            "text/plain": [
              "5"
            ]
          },
          "metadata": {},
          "execution_count": 139
        }
      ]
    },
    {
      "cell_type": "code",
      "source": [
        "a[5]"
      ],
      "metadata": {
        "colab": {
          "base_uri": "https://localhost:8080/"
        },
        "id": "SnT6vCxtR6Eg",
        "outputId": "181288ff-5370-42bf-ae6c-7196541c9c3c"
      },
      "execution_count": null,
      "outputs": [
        {
          "output_type": "execute_result",
          "data": {
            "text/plain": [
              "[6, 7]"
            ]
          },
          "metadata": {},
          "execution_count": 141
        }
      ]
    },
    {
      "cell_type": "code",
      "source": [
        "a[5][0]"
      ],
      "metadata": {
        "colab": {
          "base_uri": "https://localhost:8080/"
        },
        "id": "JClijl-hR8Ug",
        "outputId": "6a42ec2f-5409-4a1b-ba88-41efa5664fe2"
      },
      "execution_count": null,
      "outputs": [
        {
          "output_type": "execute_result",
          "data": {
            "text/plain": [
              "6"
            ]
          },
          "metadata": {},
          "execution_count": 142
        }
      ]
    },
    {
      "cell_type": "code",
      "source": [
        "for i in dir(dict):\n",
        "  if \"__\" not in i:\n",
        "    print(i)"
      ],
      "metadata": {
        "colab": {
          "base_uri": "https://localhost:8080/"
        },
        "id": "0uOd1KbdSAQW",
        "outputId": "a2e691cc-e18b-4319-fc5e-5335cf2767b8"
      },
      "execution_count": null,
      "outputs": [
        {
          "output_type": "stream",
          "name": "stdout",
          "text": [
            "clear\n",
            "copy\n",
            "fromkeys\n",
            "get\n",
            "items\n",
            "keys\n",
            "pop\n",
            "popitem\n",
            "setdefault\n",
            "update\n",
            "values\n"
          ]
        }
      ]
    },
    {
      "cell_type": "code",
      "source": [
        "d = {}\n",
        "type(d)"
      ],
      "metadata": {
        "colab": {
          "base_uri": "https://localhost:8080/"
        },
        "id": "9uDxi_yCSrD8",
        "outputId": "6d8ce15d-dd60-4bb6-8070-285d4573e641"
      },
      "execution_count": null,
      "outputs": [
        {
          "output_type": "execute_result",
          "data": {
            "text/plain": [
              "dict"
            ]
          },
          "metadata": {},
          "execution_count": 145
        }
      ]
    },
    {
      "cell_type": "code",
      "source": [
        "s = {}\n",
        "type(s)"
      ],
      "metadata": {
        "colab": {
          "base_uri": "https://localhost:8080/"
        },
        "id": "tpyLNqNNSt3a",
        "outputId": "3a86d882-ff59-49e2-82d2-1d503afa7d97"
      },
      "execution_count": null,
      "outputs": [
        {
          "output_type": "execute_result",
          "data": {
            "text/plain": [
              "dict"
            ]
          },
          "metadata": {},
          "execution_count": 146
        }
      ]
    },
    {
      "cell_type": "code",
      "source": [
        "s = set()\n",
        "type(s)"
      ],
      "metadata": {
        "colab": {
          "base_uri": "https://localhost:8080/"
        },
        "id": "6_0L_Sq8SwHb",
        "outputId": "d5e4cc2b-8046-494d-b946-100c45eb5651"
      },
      "execution_count": null,
      "outputs": [
        {
          "output_type": "execute_result",
          "data": {
            "text/plain": [
              "set"
            ]
          },
          "metadata": {},
          "execution_count": 147
        }
      ]
    },
    {
      "cell_type": "code",
      "source": [
        "d = {1: 'One', 2: 'Two', 3: 'Three'}\n",
        "d"
      ],
      "metadata": {
        "colab": {
          "base_uri": "https://localhost:8080/"
        },
        "id": "ung0m1BGSySs",
        "outputId": "1611641e-08b8-4056-a8bc-bf7961248e4a"
      },
      "execution_count": null,
      "outputs": [
        {
          "output_type": "execute_result",
          "data": {
            "text/plain": [
              "{1: 'One', 2: 'Two', 3: 'Three'}"
            ]
          },
          "metadata": {},
          "execution_count": 148
        }
      ]
    },
    {
      "cell_type": "code",
      "source": [
        "e = d.copy()\n",
        "e"
      ],
      "metadata": {
        "colab": {
          "base_uri": "https://localhost:8080/"
        },
        "id": "eeiem-tkS1f7",
        "outputId": "d3f17bed-5a35-4298-e1c3-a459246b84aa"
      },
      "execution_count": null,
      "outputs": [
        {
          "output_type": "execute_result",
          "data": {
            "text/plain": [
              "{1: 'One', 2: 'Two', 3: 'Three'}"
            ]
          },
          "metadata": {},
          "execution_count": 149
        }
      ]
    },
    {
      "cell_type": "code",
      "source": [
        "d"
      ],
      "metadata": {
        "colab": {
          "base_uri": "https://localhost:8080/"
        },
        "id": "TSFE4TdjS_8W",
        "outputId": "4dccee90-0b02-4a4c-dc22-5e60dd892118"
      },
      "execution_count": null,
      "outputs": [
        {
          "output_type": "execute_result",
          "data": {
            "text/plain": [
              "{1: 'One', 2: 'Two', 3: 'Three'}"
            ]
          },
          "metadata": {},
          "execution_count": 150
        }
      ]
    },
    {
      "cell_type": "code",
      "source": [
        "d[2]"
      ],
      "metadata": {
        "colab": {
          "base_uri": "https://localhost:8080/",
          "height": 36
        },
        "id": "1DRighhATBc_",
        "outputId": "321d27ba-f27f-4f4b-f760-77b34d10cd71"
      },
      "execution_count": null,
      "outputs": [
        {
          "output_type": "execute_result",
          "data": {
            "text/plain": [
              "'Two'"
            ],
            "application/vnd.google.colaboratory.intrinsic+json": {
              "type": "string"
            }
          },
          "metadata": {},
          "execution_count": 152
        }
      ]
    },
    {
      "cell_type": "code",
      "source": [
        "d[4]"
      ],
      "metadata": {
        "colab": {
          "base_uri": "https://localhost:8080/",
          "height": 146
        },
        "id": "bKXru9IjTE8n",
        "outputId": "364d9a65-a4f3-4fa0-9b31-c72fc1865a0d"
      },
      "execution_count": null,
      "outputs": [
        {
          "output_type": "error",
          "ename": "KeyError",
          "evalue": "4",
          "traceback": [
            "\u001b[0;31m---------------------------------------------------------------------------\u001b[0m",
            "\u001b[0;31mKeyError\u001b[0m                                  Traceback (most recent call last)",
            "\u001b[0;32m<ipython-input-153-31c4f4ce9503>\u001b[0m in \u001b[0;36m<cell line: 0>\u001b[0;34m()\u001b[0m\n\u001b[0;32m----> 1\u001b[0;31m \u001b[0md\u001b[0m\u001b[0;34m[\u001b[0m\u001b[0;36m4\u001b[0m\u001b[0;34m]\u001b[0m\u001b[0;34m\u001b[0m\u001b[0;34m\u001b[0m\u001b[0m\n\u001b[0m",
            "\u001b[0;31mKeyError\u001b[0m: 4"
          ]
        }
      ]
    },
    {
      "cell_type": "code",
      "source": [
        "d.get(2,'Not Available')"
      ],
      "metadata": {
        "colab": {
          "base_uri": "https://localhost:8080/",
          "height": 36
        },
        "id": "TJOeOyuQTGhI",
        "outputId": "14635fa3-967c-42ef-de4e-0ceeaf6db422"
      },
      "execution_count": null,
      "outputs": [
        {
          "output_type": "execute_result",
          "data": {
            "text/plain": [
              "'Two'"
            ],
            "application/vnd.google.colaboratory.intrinsic+json": {
              "type": "string"
            }
          },
          "metadata": {},
          "execution_count": 154
        }
      ]
    },
    {
      "cell_type": "code",
      "source": [
        "d.get(4,'Not Available')"
      ],
      "metadata": {
        "colab": {
          "base_uri": "https://localhost:8080/",
          "height": 36
        },
        "id": "hoSURrQJTKha",
        "outputId": "f45d7a55-9afd-43da-e5fa-f14221be374f"
      },
      "execution_count": null,
      "outputs": [
        {
          "output_type": "execute_result",
          "data": {
            "text/plain": [
              "'Not Available'"
            ],
            "application/vnd.google.colaboratory.intrinsic+json": {
              "type": "string"
            }
          },
          "metadata": {},
          "execution_count": 155
        }
      ]
    },
    {
      "cell_type": "code",
      "source": [
        "d.items()"
      ],
      "metadata": {
        "colab": {
          "base_uri": "https://localhost:8080/"
        },
        "id": "DUglaKtxTOOX",
        "outputId": "f059e89f-d021-46a6-ff2b-5140679d747f"
      },
      "execution_count": null,
      "outputs": [
        {
          "output_type": "execute_result",
          "data": {
            "text/plain": [
              "dict_items([(1, 'One'), (2, 'Two'), (3, 'Three')])"
            ]
          },
          "metadata": {},
          "execution_count": 156
        }
      ]
    },
    {
      "cell_type": "code",
      "source": [
        "d.keys()"
      ],
      "metadata": {
        "colab": {
          "base_uri": "https://localhost:8080/"
        },
        "id": "mPm20qXaTVTK",
        "outputId": "df931d4e-8f74-45f7-c98d-02c5cee26389"
      },
      "execution_count": null,
      "outputs": [
        {
          "output_type": "execute_result",
          "data": {
            "text/plain": [
              "dict_keys([1, 2, 3])"
            ]
          },
          "metadata": {},
          "execution_count": 157
        }
      ]
    },
    {
      "cell_type": "code",
      "source": [
        "d.values()"
      ],
      "metadata": {
        "colab": {
          "base_uri": "https://localhost:8080/"
        },
        "id": "aoKGjL4oTXKb",
        "outputId": "c5af3d65-5e03-4f88-d8e4-70d6c2a16f3e"
      },
      "execution_count": null,
      "outputs": [
        {
          "output_type": "execute_result",
          "data": {
            "text/plain": [
              "dict_values(['One', 'Two', 'Three'])"
            ]
          },
          "metadata": {},
          "execution_count": 158
        }
      ]
    },
    {
      "cell_type": "code",
      "source": [
        "d[4] = 'Four'\n",
        "d[5] = 'Five'\n",
        "d"
      ],
      "metadata": {
        "colab": {
          "base_uri": "https://localhost:8080/"
        },
        "id": "EQWd9KaiTZRo",
        "outputId": "5ed3475d-6ed7-469d-f33e-3bb7a65c3079"
      },
      "execution_count": null,
      "outputs": [
        {
          "output_type": "execute_result",
          "data": {
            "text/plain": [
              "{1: 'One', 2: 'Two', 3: 'Three', 4: 'Four', 5: 'Five'}"
            ]
          },
          "metadata": {},
          "execution_count": 159
        }
      ]
    },
    {
      "cell_type": "code",
      "source": [
        "d1 = {6: 'Six', 7: 'Seven'}\n",
        "d.update(d1)\n",
        "d"
      ],
      "metadata": {
        "colab": {
          "base_uri": "https://localhost:8080/"
        },
        "id": "GFwnYPXHTm9C",
        "outputId": "3a5a545b-9f46-4e15-c68e-a8819019ee9a"
      },
      "execution_count": null,
      "outputs": [
        {
          "output_type": "execute_result",
          "data": {
            "text/plain": [
              "{1: 'One', 2: 'Two', 3: 'Three', 4: 'Four', 5: 'Five', 6: 'Six', 7: 'Seven'}"
            ]
          },
          "metadata": {},
          "execution_count": 160
        }
      ]
    },
    {
      "cell_type": "code",
      "source": [
        "d.pop()"
      ],
      "metadata": {
        "colab": {
          "base_uri": "https://localhost:8080/",
          "height": 146
        },
        "id": "3n5Ou8d7Tteh",
        "outputId": "1e912d00-ecab-4232-c081-624fadfea038"
      },
      "execution_count": null,
      "outputs": [
        {
          "output_type": "error",
          "ename": "TypeError",
          "evalue": "pop expected at least 1 argument, got 0",
          "traceback": [
            "\u001b[0;31m---------------------------------------------------------------------------\u001b[0m",
            "\u001b[0;31mTypeError\u001b[0m                                 Traceback (most recent call last)",
            "\u001b[0;32m<ipython-input-161-663961784a31>\u001b[0m in \u001b[0;36m<cell line: 0>\u001b[0;34m()\u001b[0m\n\u001b[0;32m----> 1\u001b[0;31m \u001b[0md\u001b[0m\u001b[0;34m.\u001b[0m\u001b[0mpop\u001b[0m\u001b[0;34m(\u001b[0m\u001b[0;34m)\u001b[0m\u001b[0;34m\u001b[0m\u001b[0;34m\u001b[0m\u001b[0m\n\u001b[0m",
            "\u001b[0;31mTypeError\u001b[0m: pop expected at least 1 argument, got 0"
          ]
        }
      ]
    },
    {
      "cell_type": "code",
      "source": [
        "d.pop(7)"
      ],
      "metadata": {
        "colab": {
          "base_uri": "https://localhost:8080/",
          "height": 36
        },
        "id": "HLzP6Z3qTvfH",
        "outputId": "d23ac30f-ff9d-4188-bbbc-8a9c62205b6f"
      },
      "execution_count": null,
      "outputs": [
        {
          "output_type": "execute_result",
          "data": {
            "text/plain": [
              "'Seven'"
            ],
            "application/vnd.google.colaboratory.intrinsic+json": {
              "type": "string"
            }
          },
          "metadata": {},
          "execution_count": 162
        }
      ]
    },
    {
      "cell_type": "code",
      "source": [
        "d"
      ],
      "metadata": {
        "colab": {
          "base_uri": "https://localhost:8080/"
        },
        "id": "BPxvFGoQTxxA",
        "outputId": "ebfabe77-739e-4023-e785-8a1a8c00bd40"
      },
      "execution_count": null,
      "outputs": [
        {
          "output_type": "execute_result",
          "data": {
            "text/plain": [
              "{1: 'One', 2: 'Two', 3: 'Three', 4: 'Four', 5: 'Five', 6: 'Six'}"
            ]
          },
          "metadata": {},
          "execution_count": 163
        }
      ]
    },
    {
      "cell_type": "code",
      "source": [
        "d.popitem()"
      ],
      "metadata": {
        "colab": {
          "base_uri": "https://localhost:8080/"
        },
        "id": "mOgL6FLKTzGs",
        "outputId": "1f4ca41b-0eb2-414b-8a7d-ad21506dae17"
      },
      "execution_count": null,
      "outputs": [
        {
          "output_type": "execute_result",
          "data": {
            "text/plain": [
              "(6, 'Six')"
            ]
          },
          "metadata": {},
          "execution_count": 164
        }
      ]
    },
    {
      "cell_type": "code",
      "source": [
        "d.popitem(2)"
      ],
      "metadata": {
        "colab": {
          "base_uri": "https://localhost:8080/",
          "height": 146
        },
        "id": "yX9gdKYHT2wf",
        "outputId": "db68c1d5-06de-4b2e-ea23-8fe106ce89f0"
      },
      "execution_count": null,
      "outputs": [
        {
          "output_type": "error",
          "ename": "TypeError",
          "evalue": "dict.popitem() takes no arguments (1 given)",
          "traceback": [
            "\u001b[0;31m---------------------------------------------------------------------------\u001b[0m",
            "\u001b[0;31mTypeError\u001b[0m                                 Traceback (most recent call last)",
            "\u001b[0;32m<ipython-input-165-444a1eb83538>\u001b[0m in \u001b[0;36m<cell line: 0>\u001b[0;34m()\u001b[0m\n\u001b[0;32m----> 1\u001b[0;31m \u001b[0md\u001b[0m\u001b[0;34m.\u001b[0m\u001b[0mpopitem\u001b[0m\u001b[0;34m(\u001b[0m\u001b[0;36m2\u001b[0m\u001b[0;34m)\u001b[0m\u001b[0;34m\u001b[0m\u001b[0;34m\u001b[0m\u001b[0m\n\u001b[0m",
            "\u001b[0;31mTypeError\u001b[0m: dict.popitem() takes no arguments (1 given)"
          ]
        }
      ]
    },
    {
      "cell_type": "code",
      "source": [
        "# prompt: give me code for setdefault\n",
        "\n",
        "# The setdefault() method returns the value of the item with the specified key.\n",
        "# If the key does not exist, insert the key, with the specified value.\n",
        "\n",
        "# Example 1: Key exists\n",
        "d = {1: 'One', 2: 'Two', 3: 'Three'}\n",
        "value = d.setdefault(2, 'Default')\n",
        "print(f\"Value for key 2: {value}\")\n",
        "print(f\"Dictionary after setdefault(2): {d}\")\n",
        "\n",
        "# Example 2: Key does not exist\n",
        "value = d.setdefault(4, 'Four')\n",
        "print(f\"Value for key 4: {value}\")\n",
        "print(f\"Dictionary after setdefault(4): {d}\")\n",
        "\n",
        "# Example 3: Key does not exist, no default value provided (defaults to None)\n",
        "value = d.setdefault(5)\n",
        "print(f\"Value for key 5: {value}\")\n",
        "print(f\"Dictionary after setdefault(5): {d}\")"
      ],
      "metadata": {
        "colab": {
          "base_uri": "https://localhost:8080/"
        },
        "id": "mbAh3qrNT5sO",
        "outputId": "3286df78-b9ec-4bd5-ee05-8fdd5516055a"
      },
      "execution_count": null,
      "outputs": [
        {
          "output_type": "stream",
          "name": "stdout",
          "text": [
            "Value for key 2: Two\n",
            "Dictionary after setdefault(2): {1: 'One', 2: 'Two', 3: 'Three'}\n",
            "Value for key 4: Four\n",
            "Dictionary after setdefault(4): {1: 'One', 2: 'Two', 3: 'Three', 4: 'Four'}\n",
            "Value for key 5: None\n",
            "Dictionary after setdefault(5): {1: 'One', 2: 'Two', 3: 'Three', 4: 'Four', 5: None}\n"
          ]
        }
      ]
    },
    {
      "cell_type": "code",
      "source": [
        "for i in dir(str):\n",
        "  if '__' not in i:\n",
        "    print(i)"
      ],
      "metadata": {
        "colab": {
          "base_uri": "https://localhost:8080/"
        },
        "id": "5KAGMfnvUh2F",
        "outputId": "6415bbc9-e669-454c-f432-fb7afb1d70f6"
      },
      "execution_count": null,
      "outputs": [
        {
          "output_type": "stream",
          "name": "stdout",
          "text": [
            "capitalize\n",
            "casefold\n",
            "center\n",
            "count\n",
            "encode\n",
            "endswith\n",
            "expandtabs\n",
            "find\n",
            "format\n",
            "format_map\n",
            "index\n",
            "isalnum\n",
            "isalpha\n",
            "isascii\n",
            "isdecimal\n",
            "isdigit\n",
            "isidentifier\n",
            "islower\n",
            "isnumeric\n",
            "isprintable\n",
            "isspace\n",
            "istitle\n",
            "isupper\n",
            "join\n",
            "ljust\n",
            "lower\n",
            "lstrip\n",
            "maketrans\n",
            "partition\n",
            "removeprefix\n",
            "removesuffix\n",
            "replace\n",
            "rfind\n",
            "rindex\n",
            "rjust\n",
            "rpartition\n",
            "rsplit\n",
            "rstrip\n",
            "split\n",
            "splitlines\n",
            "startswith\n",
            "strip\n",
            "swapcase\n",
            "title\n",
            "translate\n",
            "upper\n",
            "zfill\n"
          ]
        }
      ]
    },
    {
      "cell_type": "code",
      "source": [
        "s = 'bAlA iS a gOoD bOY'"
      ],
      "metadata": {
        "id": "jY8p9BkRUvZm"
      },
      "execution_count": null,
      "outputs": []
    },
    {
      "cell_type": "code",
      "source": [
        "s.capitalize()"
      ],
      "metadata": {
        "colab": {
          "base_uri": "https://localhost:8080/",
          "height": 36
        },
        "id": "PqelrpTlU1qx",
        "outputId": "dabdaec4-f2eb-4736-ac07-ea20afa565cc"
      },
      "execution_count": null,
      "outputs": [
        {
          "output_type": "execute_result",
          "data": {
            "text/plain": [
              "'Bala is a good boy'"
            ],
            "application/vnd.google.colaboratory.intrinsic+json": {
              "type": "string"
            }
          },
          "metadata": {},
          "execution_count": 172
        }
      ]
    },
    {
      "cell_type": "code",
      "source": [
        "s"
      ],
      "metadata": {
        "colab": {
          "base_uri": "https://localhost:8080/",
          "height": 36
        },
        "id": "vGs9oJZFU4Qn",
        "outputId": "ba0a48d8-d24e-40f2-f97d-435890d72356"
      },
      "execution_count": null,
      "outputs": [
        {
          "output_type": "execute_result",
          "data": {
            "text/plain": [
              "'bAlA iS a gOoD bOY'"
            ],
            "application/vnd.google.colaboratory.intrinsic+json": {
              "type": "string"
            }
          },
          "metadata": {},
          "execution_count": 173
        }
      ]
    },
    {
      "cell_type": "code",
      "source": [
        "s.upper()"
      ],
      "metadata": {
        "colab": {
          "base_uri": "https://localhost:8080/",
          "height": 36
        },
        "id": "sTvEXhlhU5Ii",
        "outputId": "90dcd733-dd6a-4853-c2ba-b4d23b91d582"
      },
      "execution_count": null,
      "outputs": [
        {
          "output_type": "execute_result",
          "data": {
            "text/plain": [
              "'BALA IS A GOOD BOY'"
            ],
            "application/vnd.google.colaboratory.intrinsic+json": {
              "type": "string"
            }
          },
          "metadata": {},
          "execution_count": 174
        }
      ]
    },
    {
      "cell_type": "code",
      "source": [
        "s.title()"
      ],
      "metadata": {
        "colab": {
          "base_uri": "https://localhost:8080/",
          "height": 36
        },
        "id": "cP31tHolU6uh",
        "outputId": "94638493-cdd1-402d-9ff1-2d149487296f"
      },
      "execution_count": null,
      "outputs": [
        {
          "output_type": "execute_result",
          "data": {
            "text/plain": [
              "'Bala Is A Good Boy'"
            ],
            "application/vnd.google.colaboratory.intrinsic+json": {
              "type": "string"
            }
          },
          "metadata": {},
          "execution_count": 175
        }
      ]
    },
    {
      "cell_type": "code",
      "source": [
        "s.lower()"
      ],
      "metadata": {
        "colab": {
          "base_uri": "https://localhost:8080/",
          "height": 36
        },
        "id": "GnIVpALpU9DH",
        "outputId": "bbb84e78-c88a-4f5b-d283-677dfecccdcf"
      },
      "execution_count": null,
      "outputs": [
        {
          "output_type": "execute_result",
          "data": {
            "text/plain": [
              "'bala is a good boy'"
            ],
            "application/vnd.google.colaboratory.intrinsic+json": {
              "type": "string"
            }
          },
          "metadata": {},
          "execution_count": 176
        }
      ]
    },
    {
      "cell_type": "code",
      "source": [
        "s.swapcase()"
      ],
      "metadata": {
        "colab": {
          "base_uri": "https://localhost:8080/",
          "height": 36
        },
        "id": "NuBmwk7xU-Z4",
        "outputId": "27479c98-c84e-4aa2-a82a-15c0b0558c19"
      },
      "execution_count": null,
      "outputs": [
        {
          "output_type": "execute_result",
          "data": {
            "text/plain": [
              "'BaLa Is A GoOd Boy'"
            ],
            "application/vnd.google.colaboratory.intrinsic+json": {
              "type": "string"
            }
          },
          "metadata": {},
          "execution_count": 177
        }
      ]
    },
    {
      "cell_type": "code",
      "source": [
        "s.casefold()"
      ],
      "metadata": {
        "colab": {
          "base_uri": "https://localhost:8080/",
          "height": 36
        },
        "id": "H5ZnadZDVBSj",
        "outputId": "5bac66e7-6b03-4ca9-e747-81ec495a5ce2"
      },
      "execution_count": null,
      "outputs": [
        {
          "output_type": "execute_result",
          "data": {
            "text/plain": [
              "'bala is a good boy'"
            ],
            "application/vnd.google.colaboratory.intrinsic+json": {
              "type": "string"
            }
          },
          "metadata": {},
          "execution_count": 178
        }
      ]
    },
    {
      "cell_type": "code",
      "source": [
        "s.islower()"
      ],
      "metadata": {
        "colab": {
          "base_uri": "https://localhost:8080/"
        },
        "id": "L1l43nnwVPZ2",
        "outputId": "1b9ccecb-3326-42d4-a0a8-a883431ea304"
      },
      "execution_count": null,
      "outputs": [
        {
          "output_type": "execute_result",
          "data": {
            "text/plain": [
              "False"
            ]
          },
          "metadata": {},
          "execution_count": 180
        }
      ]
    },
    {
      "cell_type": "code",
      "source": [
        "s.isupper()"
      ],
      "metadata": {
        "colab": {
          "base_uri": "https://localhost:8080/"
        },
        "id": "kZNYb9H_VZJ-",
        "outputId": "6bbf1287-bc23-4204-8ae5-892e746d2424"
      },
      "execution_count": null,
      "outputs": [
        {
          "output_type": "execute_result",
          "data": {
            "text/plain": [
              "False"
            ]
          },
          "metadata": {},
          "execution_count": 181
        }
      ]
    },
    {
      "cell_type": "code",
      "source": [
        "s.istitle()"
      ],
      "metadata": {
        "colab": {
          "base_uri": "https://localhost:8080/"
        },
        "id": "QwXoHZyxVa39",
        "outputId": "757d0223-a554-47d2-f791-77cfc7d36de9"
      },
      "execution_count": null,
      "outputs": [
        {
          "output_type": "execute_result",
          "data": {
            "text/plain": [
              "False"
            ]
          },
          "metadata": {},
          "execution_count": 182
        }
      ]
    },
    {
      "cell_type": "code",
      "source": [
        "s.upper().isupper()"
      ],
      "metadata": {
        "colab": {
          "base_uri": "https://localhost:8080/"
        },
        "id": "m7b-Mb2DVdwY",
        "outputId": "6293efbf-2c35-4291-9152-33035ab244ff"
      },
      "execution_count": null,
      "outputs": [
        {
          "output_type": "execute_result",
          "data": {
            "text/plain": [
              "True"
            ]
          },
          "metadata": {},
          "execution_count": 183
        }
      ]
    },
    {
      "cell_type": "code",
      "source": [
        "s.lower().count('o')"
      ],
      "metadata": {
        "colab": {
          "base_uri": "https://localhost:8080/"
        },
        "id": "eAmKXQq2VlRg",
        "outputId": "6f2befa2-4096-45e5-9a52-47e1d19d416c"
      },
      "execution_count": null,
      "outputs": [
        {
          "output_type": "execute_result",
          "data": {
            "text/plain": [
              "3"
            ]
          },
          "metadata": {},
          "execution_count": 186
        }
      ]
    },
    {
      "cell_type": "code",
      "source": [
        "s.endswith('boy')"
      ],
      "metadata": {
        "colab": {
          "base_uri": "https://localhost:8080/"
        },
        "id": "hKiz0O-ZVs6m",
        "outputId": "c92d5292-1a27-4956-8220-640ba889f37e"
      },
      "execution_count": null,
      "outputs": [
        {
          "output_type": "execute_result",
          "data": {
            "text/plain": [
              "False"
            ]
          },
          "metadata": {},
          "execution_count": 187
        }
      ]
    },
    {
      "cell_type": "code",
      "source": [
        "s.lower().endswith('boy')"
      ],
      "metadata": {
        "colab": {
          "base_uri": "https://localhost:8080/"
        },
        "id": "Otwvv4gVVw9s",
        "outputId": "b42aa506-cdf9-4687-e8d5-eff56893b646"
      },
      "execution_count": null,
      "outputs": [
        {
          "output_type": "execute_result",
          "data": {
            "text/plain": [
              "True"
            ]
          },
          "metadata": {},
          "execution_count": 188
        }
      ]
    },
    {
      "cell_type": "code",
      "source": [
        "s.startswith('bala')"
      ],
      "metadata": {
        "colab": {
          "base_uri": "https://localhost:8080/"
        },
        "id": "yjp8j7bZVzCQ",
        "outputId": "e865e368-4b4f-4a4c-af6a-a2332509b4bf"
      },
      "execution_count": null,
      "outputs": [
        {
          "output_type": "execute_result",
          "data": {
            "text/plain": [
              "False"
            ]
          },
          "metadata": {},
          "execution_count": 189
        }
      ]
    },
    {
      "cell_type": "code",
      "source": [
        "s.lower().startswith('bala')"
      ],
      "metadata": {
        "colab": {
          "base_uri": "https://localhost:8080/"
        },
        "id": "PmQB8B3KV3PM",
        "outputId": "20b5d566-c7fb-4347-a0ea-09d4862ae4f6"
      },
      "execution_count": null,
      "outputs": [
        {
          "output_type": "execute_result",
          "data": {
            "text/plain": [
              "True"
            ]
          },
          "metadata": {},
          "execution_count": 190
        }
      ]
    },
    {
      "cell_type": "code",
      "source": [
        "s = 'TP00156789'\n",
        "int(s.removeprefix('TP'))\n"
      ],
      "metadata": {
        "colab": {
          "base_uri": "https://localhost:8080/"
        },
        "id": "O_oPbUhZV8HH",
        "outputId": "d5db376e-0953-4524-e9f2-38d37a622272"
      },
      "execution_count": null,
      "outputs": [
        {
          "output_type": "execute_result",
          "data": {
            "text/plain": [
              "156789"
            ]
          },
          "metadata": {},
          "execution_count": 193
        }
      ]
    },
    {
      "cell_type": "code",
      "source": [
        "s"
      ],
      "metadata": {
        "colab": {
          "base_uri": "https://localhost:8080/",
          "height": 36
        },
        "id": "5ENOmWqEWCpN",
        "outputId": "26e66c3b-0bd5-41cb-e4b4-7446c52f5b37"
      },
      "execution_count": null,
      "outputs": [
        {
          "output_type": "execute_result",
          "data": {
            "text/plain": [
              "'TP00156789'"
            ],
            "application/vnd.google.colaboratory.intrinsic+json": {
              "type": "string"
            }
          },
          "metadata": {},
          "execution_count": 192
        }
      ]
    },
    {
      "cell_type": "code",
      "source": [
        "'Gowthami Bala'.removesuffix('Bala')"
      ],
      "metadata": {
        "colab": {
          "base_uri": "https://localhost:8080/",
          "height": 36
        },
        "id": "_cujVW5IWJgQ",
        "outputId": "235e6068-047a-4121-c18b-9ff5e0fa4efc"
      },
      "execution_count": null,
      "outputs": [
        {
          "output_type": "execute_result",
          "data": {
            "text/plain": [
              "'Gowthami '"
            ],
            "application/vnd.google.colaboratory.intrinsic+json": {
              "type": "string"
            }
          },
          "metadata": {},
          "execution_count": 194
        }
      ]
    },
    {
      "cell_type": "code",
      "source": [
        "s1 = '12345'\n",
        "s2 = '012345'\n",
        "s3 = 'a0b1c2'\n",
        "s4 = '256.02'"
      ],
      "metadata": {
        "id": "dYEyYfChWVit"
      },
      "execution_count": null,
      "outputs": []
    },
    {
      "cell_type": "code",
      "source": [
        "print('isalnum')\n",
        "print(f'{s1} : {s1.isalnum()}')\n",
        "print(f'{s2} : {s2.isalnum()}')\n",
        "print(f'{s3} : {s3.isalnum()}')\n",
        "print(f'{s4} : {s4.isalnum()}')\n",
        "\n",
        "print('\\nisalpha')\n",
        "print(f'{s1} : {s1.isalpha()}')\n",
        "print(f'{s2} : {s2.isalpha()}')\n",
        "print(f'{s3} : {s3.isalpha()}')\n",
        "print(f'{s4} : {s4.isalpha()}')\n",
        "\n",
        "print('\\nisascii')\n",
        "print(f'{s1} : {s1.isascii()}')\n",
        "print(f'{s2} : {s2.isascii()}')\n",
        "print(f'{s3} : {s3.isascii()}')\n",
        "print(f'{s4} : {s4.isascii()}')\n",
        "\n",
        "print('\\nisdecimal')\n",
        "print(f'{s1} : {s1.isdecimal()}')\n",
        "print(f'{s2} : {s2.isdecimal()}')\n",
        "print(f'{s3} : {s3.isdecimal()}')\n",
        "print(f'{s4} : {s4.isdecimal()}')\n",
        "\n",
        "print('\\nisdigit')\n",
        "print(f'{s1} : {s1.isdigit()}')\n",
        "print(f'{s2} : {s2.isdigit()}')\n",
        "print(f'{s3} : {s3.isdigit()}')\n",
        "print(f'{s4} : {s4.isdigit()}')\n",
        "\n",
        "print('\\nisidentifier')\n",
        "print('\\nisnumeric')\n",
        "print('\\nisprintable')\n",
        "print('\\nisspace')\n"
      ],
      "metadata": {
        "colab": {
          "base_uri": "https://localhost:8080/"
        },
        "id": "C2deo6bxWfR_",
        "outputId": "4750b6bf-363f-43d0-aff6-447d75c48c38"
      },
      "execution_count": null,
      "outputs": [
        {
          "output_type": "stream",
          "name": "stdout",
          "text": [
            "isalnum\n",
            "12345 : True\n",
            "012345 : True\n",
            "a0b1c2 : True\n",
            "256.02 : False\n",
            "\n",
            "isalpha\n",
            "12345 : False\n",
            "012345 : False\n",
            "a0b1c2 : False\n",
            "256.02 : False\n",
            "\n",
            "isascii\n",
            "12345 : True\n",
            "012345 : True\n",
            "a0b1c2 : True\n",
            "256.02 : True\n",
            "\n",
            "isdecimal\n",
            "12345 : True\n",
            "012345 : True\n",
            "a0b1c2 : False\n",
            "256.02 : False\n",
            "\n",
            "isdigit\n",
            "12345 : True\n",
            "012345 : True\n",
            "a0b1c2 : False\n",
            "256.02 : False\n",
            "\n",
            "isidentifier\n",
            "\n",
            "isnumeric\n",
            "\n",
            "isprintable\n",
            "\n",
            "isspace\n"
          ]
        }
      ]
    },
    {
      "cell_type": "code",
      "source": [
        "s = '  bala   is a    good    boy    '\n",
        "s.strip()"
      ],
      "metadata": {
        "colab": {
          "base_uri": "https://localhost:8080/",
          "height": 36
        },
        "id": "9aiV046KYMH6",
        "outputId": "645ebdb8-9ac8-4238-af92-0c7cd2f17c63"
      },
      "execution_count": null,
      "outputs": [
        {
          "output_type": "execute_result",
          "data": {
            "text/plain": [
              "'bala   is a    good    boy'"
            ],
            "application/vnd.google.colaboratory.intrinsic+json": {
              "type": "string"
            }
          },
          "metadata": {},
          "execution_count": 204
        }
      ]
    },
    {
      "cell_type": "code",
      "source": [
        "a = s.split()\n",
        "' '.join(a)"
      ],
      "metadata": {
        "colab": {
          "base_uri": "https://localhost:8080/",
          "height": 36
        },
        "id": "ThSr2KJxYRam",
        "outputId": "d8beec23-55b5-4600-df63-63d8b674bdb2"
      },
      "execution_count": null,
      "outputs": [
        {
          "output_type": "execute_result",
          "data": {
            "text/plain": [
              "'bala is a good boy'"
            ],
            "application/vnd.google.colaboratory.intrinsic+json": {
              "type": "string"
            }
          },
          "metadata": {},
          "execution_count": 205
        }
      ]
    },
    {
      "cell_type": "code",
      "source": [
        "s.lstrip()"
      ],
      "metadata": {
        "colab": {
          "base_uri": "https://localhost:8080/",
          "height": 36
        },
        "id": "OzLDXw6zYZnh",
        "outputId": "e4868090-c0bc-4d3c-8e7c-64b306ab7048"
      },
      "execution_count": null,
      "outputs": [
        {
          "output_type": "execute_result",
          "data": {
            "text/plain": [
              "'bala   is a    good    boy    '"
            ],
            "application/vnd.google.colaboratory.intrinsic+json": {
              "type": "string"
            }
          },
          "metadata": {},
          "execution_count": 206
        }
      ]
    },
    {
      "cell_type": "code",
      "source": [
        "s.rstrip()"
      ],
      "metadata": {
        "colab": {
          "base_uri": "https://localhost:8080/",
          "height": 36
        },
        "id": "1QPrUL_sYhiy",
        "outputId": "5b06b694-6bc5-48d2-8a80-d6dcb967a5ad"
      },
      "execution_count": null,
      "outputs": [
        {
          "output_type": "execute_result",
          "data": {
            "text/plain": [
              "'  bala   is a    good    boy'"
            ],
            "application/vnd.google.colaboratory.intrinsic+json": {
              "type": "string"
            }
          },
          "metadata": {},
          "execution_count": 207
        }
      ]
    },
    {
      "cell_type": "code",
      "source": [
        "s.index('is')"
      ],
      "metadata": {
        "colab": {
          "base_uri": "https://localhost:8080/"
        },
        "id": "u4ZRxTueYl7s",
        "outputId": "38088662-f71b-4481-e9f3-b710509cd56e"
      },
      "execution_count": null,
      "outputs": [
        {
          "output_type": "execute_result",
          "data": {
            "text/plain": [
              "9"
            ]
          },
          "metadata": {},
          "execution_count": 208
        }
      ]
    },
    {
      "cell_type": "code",
      "source": [
        "s"
      ],
      "metadata": {
        "colab": {
          "base_uri": "https://localhost:8080/",
          "height": 36
        },
        "id": "qYzmPTCpYwrK",
        "outputId": "349316c3-806f-4514-cc73-5003a249e2d7"
      },
      "execution_count": null,
      "outputs": [
        {
          "output_type": "execute_result",
          "data": {
            "text/plain": [
              "'  bala   is a    good    boy    '"
            ],
            "application/vnd.google.colaboratory.intrinsic+json": {
              "type": "string"
            }
          },
          "metadata": {},
          "execution_count": 209
        }
      ]
    },
    {
      "cell_type": "code",
      "source": [
        "a = s.split()\n",
        "print(a)\n",
        "b = s.split(' ')\n",
        "print(b)"
      ],
      "metadata": {
        "colab": {
          "base_uri": "https://localhost:8080/"
        },
        "id": "gmHNZVM7YzWy",
        "outputId": "601979c9-7a37-4c2d-e5e3-6a23937a41fb"
      },
      "execution_count": null,
      "outputs": [
        {
          "output_type": "stream",
          "name": "stdout",
          "text": [
            "['bala', 'is', 'a', 'good', 'boy']\n",
            "['', '', 'bala', '', '', 'is', 'a', '', '', '', 'good', '', '', '', 'boy', '', '', '', '']\n"
          ]
        }
      ]
    },
    {
      "cell_type": "code",
      "source": [
        "a = s.splitlines('')\n",
        "a"
      ],
      "metadata": {
        "colab": {
          "base_uri": "https://localhost:8080/",
          "height": 164
        },
        "id": "AGWPyof4Z9LV",
        "outputId": "0495fe8a-7a39-4c5b-9004-935dd1ef4bee"
      },
      "execution_count": null,
      "outputs": [
        {
          "output_type": "error",
          "ename": "TypeError",
          "evalue": "'str' object cannot be interpreted as an integer",
          "traceback": [
            "\u001b[0;31m---------------------------------------------------------------------------\u001b[0m",
            "\u001b[0;31mTypeError\u001b[0m                                 Traceback (most recent call last)",
            "\u001b[0;32m<ipython-input-216-1610680ebb02>\u001b[0m in \u001b[0;36m<cell line: 0>\u001b[0;34m()\u001b[0m\n\u001b[0;32m----> 1\u001b[0;31m \u001b[0ma\u001b[0m \u001b[0;34m=\u001b[0m \u001b[0ms\u001b[0m\u001b[0;34m.\u001b[0m\u001b[0msplitlines\u001b[0m\u001b[0;34m(\u001b[0m\u001b[0;34m''\u001b[0m\u001b[0;34m)\u001b[0m\u001b[0;34m\u001b[0m\u001b[0;34m\u001b[0m\u001b[0m\n\u001b[0m\u001b[1;32m      2\u001b[0m \u001b[0ma\u001b[0m\u001b[0;34m\u001b[0m\u001b[0;34m\u001b[0m\u001b[0m\n",
            "\u001b[0;31mTypeError\u001b[0m: 'str' object cannot be interpreted as an integer"
          ]
        }
      ]
    },
    {
      "source": [
        "text = \"This is the first line.\\nThis is the second line.\\rThis is the third line.\\r\\nThis is the fourth line.\"\n",
        "lines = text.splitlines()\n",
        "print(lines)\n",
        "\n",
        "lines_with_breaks = text.splitlines(keepends=True)\n",
        "print(lines_with_breaks)"
      ],
      "cell_type": "code",
      "metadata": {
        "colab": {
          "base_uri": "https://localhost:8080/"
        },
        "id": "9g_ltSm1alBM",
        "outputId": "566f027d-e24e-4c36-a239-87a667a625aa"
      },
      "execution_count": null,
      "outputs": [
        {
          "output_type": "stream",
          "name": "stdout",
          "text": [
            "['This is the first line.', 'This is the second line.', 'This is the third line.', 'This is the fourth line.']\n",
            "['This is the first line.\\n', 'This is the second line.\\r', 'This is the third line.\\r\\n', 'This is the fourth line.']\n"
          ]
        }
      ]
    },
    {
      "cell_type": "code",
      "source": [
        "s.find('is')"
      ],
      "metadata": {
        "colab": {
          "base_uri": "https://localhost:8080/"
        },
        "id": "qqf-CEXaa7Aw",
        "outputId": "1b9f55d9-ae57-47c2-84bd-a4a236e6d08d"
      },
      "execution_count": null,
      "outputs": [
        {
          "output_type": "execute_result",
          "data": {
            "text/plain": [
              "9"
            ]
          },
          "metadata": {},
          "execution_count": 218
        }
      ]
    },
    {
      "cell_type": "code",
      "source": [
        "s.index('is')"
      ],
      "metadata": {
        "colab": {
          "base_uri": "https://localhost:8080/"
        },
        "id": "0LdWf-2ta-RR",
        "outputId": "f1d9df42-1dcc-4933-e1f3-65c37cdaa1c8"
      },
      "execution_count": null,
      "outputs": [
        {
          "output_type": "execute_result",
          "data": {
            "text/plain": [
              "9"
            ]
          },
          "metadata": {},
          "execution_count": 219
        }
      ]
    },
    {
      "cell_type": "code",
      "source": [
        "s.rfind('is')"
      ],
      "metadata": {
        "colab": {
          "base_uri": "https://localhost:8080/"
        },
        "id": "ckYN26cNbCGp",
        "outputId": "dd2753a5-2242-4bde-ced4-99fd9c6be4fe"
      },
      "execution_count": null,
      "outputs": [
        {
          "output_type": "execute_result",
          "data": {
            "text/plain": [
              "9"
            ]
          },
          "metadata": {},
          "execution_count": 220
        }
      ]
    },
    {
      "cell_type": "code",
      "source": [
        "a = ['Rajini', 'Kamal', 'Shahrukh']\n",
        "b = ['Kanth', 'Hassan', 'Khan']\n",
        "for idx, i in enumerate(a):\n",
        "  print(f'{i} {b[idx]}')"
      ],
      "metadata": {
        "colab": {
          "base_uri": "https://localhost:8080/"
        },
        "id": "YbGKKwKvbU37",
        "outputId": "d416cdfb-93a6-45f4-eaa1-18c0f2123851"
      },
      "execution_count": null,
      "outputs": [
        {
          "output_type": "stream",
          "name": "stdout",
          "text": [
            "Rajini Kanth\n",
            "Kamal Hassan\n",
            "Shahrukh Khan\n"
          ]
        }
      ]
    },
    {
      "cell_type": "code",
      "source": [
        "def guvi():\n",
        "  return 'Bala is a good boy'\n",
        "\n",
        "guvi()"
      ],
      "metadata": {
        "colab": {
          "base_uri": "https://localhost:8080/",
          "height": 36
        },
        "id": "TACqUpuAbR-C",
        "outputId": "1d938eae-c5e6-41cc-dead-0c8b317bf28d"
      },
      "execution_count": null,
      "outputs": [
        {
          "output_type": "execute_result",
          "data": {
            "text/plain": [
              "'Bala is a good boy'"
            ],
            "application/vnd.google.colaboratory.intrinsic+json": {
              "type": "string"
            }
          },
          "metadata": {},
          "execution_count": 223
        }
      ]
    },
    {
      "cell_type": "code",
      "source": [
        "print(guvi())"
      ],
      "metadata": {
        "colab": {
          "base_uri": "https://localhost:8080/"
        },
        "id": "QlkLGxyCcVSq",
        "outputId": "330a3d3f-6002-4560-aac1-64337127b0ac"
      },
      "execution_count": null,
      "outputs": [
        {
          "output_type": "stream",
          "name": "stdout",
          "text": [
            "Bala is a good boy\n"
          ]
        }
      ]
    },
    {
      "cell_type": "code",
      "source": [
        "def guvi():\n",
        "  print('Bala is a good boy')\n",
        "  return 'Bala is a fantastic boy'"
      ],
      "metadata": {
        "id": "qd0iq2YpcW-U"
      },
      "execution_count": null,
      "outputs": []
    },
    {
      "cell_type": "code",
      "source": [
        "guvi()"
      ],
      "metadata": {
        "colab": {
          "base_uri": "https://localhost:8080/",
          "height": 54
        },
        "id": "WiptrCdScckB",
        "outputId": "c5533b7e-cab3-49f6-83e8-332c06b9d3b6"
      },
      "execution_count": null,
      "outputs": [
        {
          "output_type": "stream",
          "name": "stdout",
          "text": [
            "Bala is a good boy\n"
          ]
        },
        {
          "output_type": "execute_result",
          "data": {
            "text/plain": [
              "'Bala is a fantastic boy'"
            ],
            "application/vnd.google.colaboratory.intrinsic+json": {
              "type": "string"
            }
          },
          "metadata": {},
          "execution_count": 226
        }
      ]
    },
    {
      "cell_type": "code",
      "source": [
        "print(guvi())"
      ],
      "metadata": {
        "colab": {
          "base_uri": "https://localhost:8080/"
        },
        "id": "s2jL4fbncd2U",
        "outputId": "0c32965e-b353-4a39-9821-7bce13e77f41"
      },
      "execution_count": null,
      "outputs": [
        {
          "output_type": "stream",
          "name": "stdout",
          "text": [
            "Bala is a good boy\n",
            "Bala is a fantastic boy\n"
          ]
        }
      ]
    },
    {
      "cell_type": "code",
      "source": [
        "def guvi():\n",
        "  print('Bala is a good boy')"
      ],
      "metadata": {
        "id": "uQ4Jdm8hcggm"
      },
      "execution_count": null,
      "outputs": []
    },
    {
      "cell_type": "code",
      "source": [
        "guvi()"
      ],
      "metadata": {
        "colab": {
          "base_uri": "https://localhost:8080/"
        },
        "id": "vINvRGtUcjoH",
        "outputId": "0680e806-e865-43c0-a71d-c33135a80712"
      },
      "execution_count": null,
      "outputs": [
        {
          "output_type": "stream",
          "name": "stdout",
          "text": [
            "Bala is a good boy\n"
          ]
        }
      ]
    },
    {
      "cell_type": "code",
      "source": [
        "print(guvi())"
      ],
      "metadata": {
        "colab": {
          "base_uri": "https://localhost:8080/"
        },
        "id": "GHUgwHCgclVU",
        "outputId": "d060d575-613a-41c6-a320-a57d14db13c3"
      },
      "execution_count": null,
      "outputs": [
        {
          "output_type": "stream",
          "name": "stdout",
          "text": [
            "Bala is a good boy\n",
            "None\n"
          ]
        }
      ]
    },
    {
      "cell_type": "code",
      "source": [
        "def sum2nums(a,b):\n",
        "  return a+b\n",
        "\n",
        "sum2nums(2,4)"
      ],
      "metadata": {
        "colab": {
          "base_uri": "https://localhost:8080/"
        },
        "id": "8ZkgypRKcz8B",
        "outputId": "61c82477-f1f9-478d-852f-b6ce441d15b2"
      },
      "execution_count": null,
      "outputs": [
        {
          "output_type": "execute_result",
          "data": {
            "text/plain": [
              "6"
            ]
          },
          "metadata": {},
          "execution_count": 232
        }
      ]
    },
    {
      "cell_type": "code",
      "source": [
        "def sum2nums(a,b=5):\n",
        "  return a+b\n",
        "\n",
        "sum2nums(2,4)"
      ],
      "metadata": {
        "colab": {
          "base_uri": "https://localhost:8080/"
        },
        "id": "Gr679efDc87B",
        "outputId": "97728d8a-29ab-452c-b37c-c4f08fa448f2"
      },
      "execution_count": null,
      "outputs": [
        {
          "output_type": "execute_result",
          "data": {
            "text/plain": [
              "6"
            ]
          },
          "metadata": {},
          "execution_count": 233
        }
      ]
    },
    {
      "cell_type": "code",
      "source": [
        "sum2nums(2)"
      ],
      "metadata": {
        "colab": {
          "base_uri": "https://localhost:8080/"
        },
        "id": "3fCb5LdRc_0Z",
        "outputId": "f89a88de-5a92-4e30-b62d-d33814267030"
      },
      "execution_count": null,
      "outputs": [
        {
          "output_type": "execute_result",
          "data": {
            "text/plain": [
              "7"
            ]
          },
          "metadata": {},
          "execution_count": 234
        }
      ]
    },
    {
      "cell_type": "code",
      "source": [
        "def sum2nums(a=5,b):\n",
        "  return a+b\n",
        "\n",
        "sum2nums(2,4)"
      ],
      "metadata": {
        "colab": {
          "base_uri": "https://localhost:8080/",
          "height": 110
        },
        "id": "1yOeDoI4dBRI",
        "outputId": "eba5ebca-2ccb-494d-c6d6-eff9029c434c"
      },
      "execution_count": null,
      "outputs": [
        {
          "output_type": "error",
          "ename": "SyntaxError",
          "evalue": "non-default argument follows default argument (<ipython-input-235-71df7a879743>, line 1)",
          "traceback": [
            "\u001b[0;36m  File \u001b[0;32m\"<ipython-input-235-71df7a879743>\"\u001b[0;36m, line \u001b[0;32m1\u001b[0m\n\u001b[0;31m    def sum2nums(a=5,b):\u001b[0m\n\u001b[0m                     ^\u001b[0m\n\u001b[0;31mSyntaxError\u001b[0m\u001b[0;31m:\u001b[0m non-default argument follows default argument\n"
          ]
        }
      ]
    },
    {
      "cell_type": "code",
      "source": [
        "x = 100\n",
        "\n",
        "def guvi():\n",
        "  x = 500\n",
        "  print(x)\n",
        "\n",
        "print(x)\n",
        "guvi()\n",
        "print(x)"
      ],
      "metadata": {
        "colab": {
          "base_uri": "https://localhost:8080/"
        },
        "id": "m9kC0rKFdRKa",
        "outputId": "f5d2cb7e-c9ca-41f7-94d1-dc1520444796"
      },
      "execution_count": null,
      "outputs": [
        {
          "output_type": "stream",
          "name": "stdout",
          "text": [
            "100\n",
            "500\n",
            "100\n"
          ]
        }
      ]
    },
    {
      "cell_type": "code",
      "source": [
        "x = 100\n",
        "\n",
        "def guvi():\n",
        "  global x\n",
        "  x = 500\n",
        "  print(x)\n",
        "\n",
        "print(x)\n",
        "guvi()\n",
        "print(x)"
      ],
      "metadata": {
        "colab": {
          "base_uri": "https://localhost:8080/"
        },
        "id": "Gvrnf-03df-G",
        "outputId": "69be61a3-e4bb-4a76-b78c-0eb0c506c266"
      },
      "execution_count": null,
      "outputs": [
        {
          "output_type": "stream",
          "name": "stdout",
          "text": [
            "100\n",
            "500\n",
            "500\n"
          ]
        }
      ]
    },
    {
      "cell_type": "code",
      "source": [
        "def multiplearguments(*args):\n",
        "  print(args)\n",
        "\n",
        "multiplearguments(1,2,3,4,5)"
      ],
      "metadata": {
        "colab": {
          "base_uri": "https://localhost:8080/"
        },
        "id": "F_4KxGTxdr1n",
        "outputId": "91091ccb-f97d-4917-91e6-538ccc656b0f"
      },
      "execution_count": null,
      "outputs": [
        {
          "output_type": "stream",
          "name": "stdout",
          "text": [
            "(1, 2, 3, 4, 5)\n"
          ]
        }
      ]
    },
    {
      "cell_type": "code",
      "source": [
        "def multiplearguments(*args):\n",
        "  for i in args:\n",
        "    print(i)\n",
        "\n",
        "multiplearguments(1,2,3,4,5)"
      ],
      "metadata": {
        "colab": {
          "base_uri": "https://localhost:8080/"
        },
        "id": "krQH5vlodxAD",
        "outputId": "deb01d3f-954b-4992-a937-5dd4b40ee23b"
      },
      "execution_count": null,
      "outputs": [
        {
          "output_type": "stream",
          "name": "stdout",
          "text": [
            "1\n",
            "2\n",
            "3\n",
            "4\n",
            "5\n"
          ]
        }
      ]
    },
    {
      "cell_type": "code",
      "source": [
        "def multiplekeywordarguments(**kwargs):\n",
        "  print(kwargs)\n",
        "\n",
        "multiplekeywordarguments(a=1,b=2,c=3,d=4,e=5)"
      ],
      "metadata": {
        "colab": {
          "base_uri": "https://localhost:8080/"
        },
        "id": "DSNaJKuVd28a",
        "outputId": "75ec728b-88d1-486a-e361-961d0414ced5"
      },
      "execution_count": null,
      "outputs": [
        {
          "output_type": "stream",
          "name": "stdout",
          "text": [
            "{'a': 1, 'b': 2, 'c': 3, 'd': 4, 'e': 5}\n"
          ]
        }
      ]
    },
    {
      "cell_type": "code",
      "source": [
        "def multiplekeywordarguments(name = '', age = '', **kwargs):\n",
        "  print(name)\n",
        "  print(age)\n",
        "  for idx, i in kwargs.items():\n",
        "    print(i)\n",
        "\n",
        "multiplekeywordarguments(name='bala',age=2,c=3,d=4,e=5)"
      ],
      "metadata": {
        "colab": {
          "base_uri": "https://localhost:8080/"
        },
        "id": "SNbvrMLEd-F_",
        "outputId": "523d1328-5421-4add-9ab3-c1c6b347fd14"
      },
      "execution_count": null,
      "outputs": [
        {
          "output_type": "stream",
          "name": "stdout",
          "text": [
            "bala\n",
            "2\n",
            "3\n",
            "4\n",
            "5\n"
          ]
        }
      ]
    },
    {
      "cell_type": "code",
      "source": [
        "def matchcase(n):\n",
        "  match n:\n",
        "    case 1: return 'One'\n",
        "    case 2: return 'Two'\n",
        "    case 3: return 'Three'\n",
        "    case _: return 'Thank you'"
      ],
      "metadata": {
        "id": "xNzXSxkKS1_a"
      },
      "execution_count": 1,
      "outputs": []
    },
    {
      "cell_type": "code",
      "source": [
        "matchcase(1)"
      ],
      "metadata": {
        "colab": {
          "base_uri": "https://localhost:8080/",
          "height": 36
        },
        "id": "730C6LnrTMEv",
        "outputId": "f365d877-5195-4322-a6b6-60da5bcfe6a3"
      },
      "execution_count": 2,
      "outputs": [
        {
          "output_type": "execute_result",
          "data": {
            "text/plain": [
              "'One'"
            ],
            "application/vnd.google.colaboratory.intrinsic+json": {
              "type": "string"
            }
          },
          "metadata": {},
          "execution_count": 2
        }
      ]
    },
    {
      "cell_type": "code",
      "source": [
        "matchcase(2)"
      ],
      "metadata": {
        "colab": {
          "base_uri": "https://localhost:8080/",
          "height": 36
        },
        "id": "eO-seZR8TO1o",
        "outputId": "7da70dec-463c-467a-be8d-b02b3e231664"
      },
      "execution_count": 3,
      "outputs": [
        {
          "output_type": "execute_result",
          "data": {
            "text/plain": [
              "'Two'"
            ],
            "application/vnd.google.colaboratory.intrinsic+json": {
              "type": "string"
            }
          },
          "metadata": {},
          "execution_count": 3
        }
      ]
    },
    {
      "cell_type": "code",
      "source": [
        "matchcase(5)"
      ],
      "metadata": {
        "colab": {
          "base_uri": "https://localhost:8080/",
          "height": 36
        },
        "id": "L5NqwPwBTQzG",
        "outputId": "55d74937-9fc6-42ce-85eb-6bfa6f5b46b6"
      },
      "execution_count": 4,
      "outputs": [
        {
          "output_type": "execute_result",
          "data": {
            "text/plain": [
              "'Thank you'"
            ],
            "application/vnd.google.colaboratory.intrinsic+json": {
              "type": "string"
            }
          },
          "metadata": {},
          "execution_count": 4
        }
      ]
    },
    {
      "cell_type": "code",
      "source": [
        "def studentdeets(name, age, *subject):\n",
        "  print(f'Name of the Student is {name}')\n",
        "  print(f'Age of the Student is {age}')\n",
        "  for idx, i in enumerate(subject):\n",
        "    print(f'Subject {idx+1}: {i}')\n"
      ],
      "metadata": {
        "id": "JnG51u1pTTIf"
      },
      "execution_count": 5,
      "outputs": []
    },
    {
      "cell_type": "code",
      "source": [
        "studentdeets('Bala', 30, 'English', 'Tamil', 'Science', 'Maths', 'Social', 'Practical')"
      ],
      "metadata": {
        "colab": {
          "base_uri": "https://localhost:8080/"
        },
        "id": "-9o0WwN4TwWg",
        "outputId": "b1aa5e4d-bf06-4c4c-83e5-ac4b97220b9b"
      },
      "execution_count": 6,
      "outputs": [
        {
          "output_type": "stream",
          "name": "stdout",
          "text": [
            "Name of the Student is Bala\n",
            "Age of the Student is 30\n",
            "Subject 1: English\n",
            "Subject 2: Tamil\n",
            "Subject 3: Science\n",
            "Subject 4: Maths\n",
            "Subject 5: Social\n",
            "Subject 6: Practical\n"
          ]
        }
      ]
    },
    {
      "cell_type": "code",
      "source": [
        "a = 'hi'\n",
        "b = 'hello'\n",
        "print('print variable a and b is: {1} {0}'.format(a, b))"
      ],
      "metadata": {
        "colab": {
          "base_uri": "https://localhost:8080/"
        },
        "id": "1llw35-QT7Od",
        "outputId": "a02ced17-55dd-4238-f562-8e46fed9571e"
      },
      "execution_count": 10,
      "outputs": [
        {
          "output_type": "stream",
          "name": "stdout",
          "text": [
            "print variable a and b is: hello hi\n"
          ]
        }
      ]
    },
    {
      "cell_type": "code",
      "source": [
        "name = input('Enter name: ')\n",
        "age = input('Enter age: ')\n",
        "gender = input('Enter gender: ')\n",
        "character = input('Enter character: ')\n",
        "\n",
        "\n",
        "\n",
        "print(f'{name} is {age} years old and {\"he\" if gender == \"male\" else \"she\"} is {character} character')\n"
      ],
      "metadata": {
        "colab": {
          "base_uri": "https://localhost:8080/"
        },
        "id": "z9tue7mkUdi3",
        "outputId": "868fbf98-58cc-4163-df42-2af638983330"
      },
      "execution_count": 20,
      "outputs": [
        {
          "output_type": "stream",
          "name": "stdout",
          "text": [
            "Enter name: bala\n",
            "Enter age: 30\n",
            "Enter gender: male\n",
            "Enter character: good\n",
            "bala is 30 years old and he is good character\n"
          ]
        }
      ]
    },
    {
      "cell_type": "code",
      "source": [
        "a = lambda x: x+10\n",
        "print(a(10))"
      ],
      "metadata": {
        "colab": {
          "base_uri": "https://localhost:8080/"
        },
        "id": "YCWtDxQ3VoCN",
        "outputId": "38c280d5-6b57-4e0a-d194-43c788bfc127"
      },
      "execution_count": 21,
      "outputs": [
        {
          "output_type": "stream",
          "name": "stdout",
          "text": [
            "20\n"
          ]
        }
      ]
    },
    {
      "cell_type": "code",
      "source": [
        "b = lambda n, m: n**m\n",
        "print(b(2,7))"
      ],
      "metadata": {
        "colab": {
          "base_uri": "https://localhost:8080/"
        },
        "id": "buZNRpg1Wr6T",
        "outputId": "e5ffa726-b4e1-428e-fc40-576d564e11e3"
      },
      "execution_count": 22,
      "outputs": [
        {
          "output_type": "stream",
          "name": "stdout",
          "text": [
            "128\n"
          ]
        }
      ]
    },
    {
      "cell_type": "code",
      "source": [
        "c = lambda a, b, c = 10: (a+b)*c\n",
        "print(c(1,2))\n",
        "print(c(2,3,4))"
      ],
      "metadata": {
        "colab": {
          "base_uri": "https://localhost:8080/"
        },
        "id": "Rzml-PhsW1Rg",
        "outputId": "cad500de-63b3-4382-b18a-34bf2ac06416"
      },
      "execution_count": 23,
      "outputs": [
        {
          "output_type": "stream",
          "name": "stdout",
          "text": [
            "30\n",
            "20\n"
          ]
        }
      ]
    },
    {
      "cell_type": "code",
      "source": [
        "d = lambda *x: list('even' if i%2==0 else 'odd' for i in x)\n",
        "print(d(1,2,3,4,5,6,7,8,9,10))"
      ],
      "metadata": {
        "colab": {
          "base_uri": "https://localhost:8080/"
        },
        "id": "DpEEnSQdXFPN",
        "outputId": "c24cee6b-32c6-4257-9f52-603ebc6006a1"
      },
      "execution_count": 26,
      "outputs": [
        {
          "output_type": "stream",
          "name": "stdout",
          "text": [
            "['odd', 'even', 'odd', 'even', 'odd', 'even', 'odd', 'even', 'odd', 'even']\n"
          ]
        }
      ]
    },
    {
      "cell_type": "code",
      "source": [
        "e = lambda *x: [5 if i<=5 else 10 if i<=10 else 100 for i in x]\n",
        "e(1,3,4,7,8,9,10,20,40,60,80,100)"
      ],
      "metadata": {
        "colab": {
          "base_uri": "https://localhost:8080/"
        },
        "id": "UBzU7WCZXz8E",
        "outputId": "3c1b69c7-2a56-4810-f5d8-e7f9024e01a7"
      },
      "execution_count": 27,
      "outputs": [
        {
          "output_type": "execute_result",
          "data": {
            "text/plain": [
              "[5, 5, 5, 10, 10, 10, 10, 100, 100, 100, 100, 100]"
            ]
          },
          "metadata": {},
          "execution_count": 27
        }
      ]
    },
    {
      "cell_type": "code",
      "source": [
        "e = lambda *x: sum([5 if i<=5 else 10 if i<=10 else 100 for i in x])\n",
        "e(1,3,4,7,8,9,10,20,40,60,80,100)"
      ],
      "metadata": {
        "colab": {
          "base_uri": "https://localhost:8080/"
        },
        "id": "iAj3PcBkYQi_",
        "outputId": "41e0f915-6b7f-4333-85e5-16d0c4699a56"
      },
      "execution_count": 28,
      "outputs": [
        {
          "output_type": "execute_result",
          "data": {
            "text/plain": [
              "555"
            ]
          },
          "metadata": {},
          "execution_count": 28
        }
      ]
    },
    {
      "cell_type": "code",
      "source": [
        "def lambdafunction(n):\n",
        "  return lambda a: a+n\n",
        "\n",
        "b = lambdafunction(10)\n",
        "print(b(5))"
      ],
      "metadata": {
        "colab": {
          "base_uri": "https://localhost:8080/"
        },
        "id": "0RWACnFXYUPu",
        "outputId": "e9931427-2305-4e9a-8f22-710066beee93"
      },
      "execution_count": 29,
      "outputs": [
        {
          "output_type": "stream",
          "name": "stdout",
          "text": [
            "15\n"
          ]
        }
      ]
    },
    {
      "cell_type": "code",
      "source": [
        "l = [16,12,18,19,30,50,12,100]\n",
        "d = list(filter(lambda x: x>=18, l))\n",
        "d"
      ],
      "metadata": {
        "colab": {
          "base_uri": "https://localhost:8080/"
        },
        "id": "gddL1xKQYkLq",
        "outputId": "6044356d-162d-457e-b6f4-2042fdb4c345"
      },
      "execution_count": 33,
      "outputs": [
        {
          "output_type": "execute_result",
          "data": {
            "text/plain": [
              "[18, 19, 30, 50, 100]"
            ]
          },
          "metadata": {},
          "execution_count": 33
        }
      ]
    },
    {
      "cell_type": "code",
      "source": [
        "def adult(n):\n",
        "  return True if n>=18 else False\n",
        "\n",
        "l = [6,10,18,12,25,9,15,20,40,60]\n",
        "d = list(filter(adult, l))\n",
        "d"
      ],
      "metadata": {
        "colab": {
          "base_uri": "https://localhost:8080/"
        },
        "id": "irFePCdDZ8OV",
        "outputId": "19171a3d-cb52-4309-e52d-6ebed7c7cbf7"
      },
      "execution_count": 39,
      "outputs": [
        {
          "output_type": "execute_result",
          "data": {
            "text/plain": [
              "[18, 25, 20, 40, 60]"
            ]
          },
          "metadata": {},
          "execution_count": 39
        }
      ]
    },
    {
      "cell_type": "code",
      "source": [
        "l = ['ajith', 'vijay', 'rajini', 'dhanush', 'simbhu']\n",
        "d = list(map(str.upper, l))\n",
        "d"
      ],
      "metadata": {
        "colab": {
          "base_uri": "https://localhost:8080/"
        },
        "id": "j4fScaVEZF4W",
        "outputId": "ce718101-c672-4369-9585-a0d32e4ac928"
      },
      "execution_count": 35,
      "outputs": [
        {
          "output_type": "execute_result",
          "data": {
            "text/plain": [
              "['AJITH', 'VIJAY', 'RAJINI', 'DHANUSH', 'SIMBHU']"
            ]
          },
          "metadata": {},
          "execution_count": 35
        }
      ]
    },
    {
      "cell_type": "code",
      "source": [
        "l = ['ajith', 'vijay', 'rajini', 'dhanush', 'simbhu']\n",
        "d = list(map(lambda x: x.upper(), l))\n",
        "d"
      ],
      "metadata": {
        "colab": {
          "base_uri": "https://localhost:8080/"
        },
        "id": "vqqv0oHdZvf0",
        "outputId": "4931e5ad-9e8f-405b-e09d-250a895f89b0"
      },
      "execution_count": 36,
      "outputs": [
        {
          "output_type": "execute_result",
          "data": {
            "text/plain": [
              "['AJITH', 'VIJAY', 'RAJINI', 'DHANUSH', 'SIMBHU']"
            ]
          },
          "metadata": {},
          "execution_count": 36
        }
      ]
    },
    {
      "cell_type": "code",
      "source": [
        "def upperfn(n):\n",
        "  return n.upper()\n",
        "\n",
        "l = ['ajith', 'vijay', 'rajini', 'dhanush', 'simbhu']\n",
        "d = list(map(upperfn, l))\n",
        "d"
      ],
      "metadata": {
        "colab": {
          "base_uri": "https://localhost:8080/"
        },
        "id": "x7dHF0E-Z2Hi",
        "outputId": "671314e0-edd9-4f6f-8530-23b2699f20e2"
      },
      "execution_count": 37,
      "outputs": [
        {
          "output_type": "execute_result",
          "data": {
            "text/plain": [
              "['AJITH', 'VIJAY', 'RAJINI', 'DHANUSH', 'SIMBHU']"
            ]
          },
          "metadata": {},
          "execution_count": 37
        }
      ]
    },
    {
      "cell_type": "code",
      "source": [
        "a = '1 2 3 4'\n",
        "b = a.split()\n",
        "b"
      ],
      "metadata": {
        "colab": {
          "base_uri": "https://localhost:8080/"
        },
        "id": "XJtZyolDaST1",
        "outputId": "271be25a-6a35-4a0c-9bf2-f98736a5104d"
      },
      "execution_count": 40,
      "outputs": [
        {
          "output_type": "execute_result",
          "data": {
            "text/plain": [
              "['1', '2', '3', '4']"
            ]
          },
          "metadata": {},
          "execution_count": 40
        }
      ]
    },
    {
      "cell_type": "code",
      "source": [
        "b = list(map(int, b))\n",
        "b"
      ],
      "metadata": {
        "colab": {
          "base_uri": "https://localhost:8080/"
        },
        "id": "3s9K61BKab3l",
        "outputId": "a4914e10-3686-4c59-c379-23a07e6e6927"
      },
      "execution_count": 41,
      "outputs": [
        {
          "output_type": "execute_result",
          "data": {
            "text/plain": [
              "[1, 2, 3, 4]"
            ]
          },
          "metadata": {},
          "execution_count": 41
        }
      ]
    },
    {
      "cell_type": "code",
      "source": [
        "class Bank():\n",
        "\n",
        "  def __init__(self, name, acc):\n",
        "    self.name = name\n",
        "    self.acc = acc\n",
        "    self.balance = 0\n",
        "\n",
        "  def deposit(self, amount):\n",
        "    self.balance+=amount\n",
        "    print(f'Amount of {amount} credited to your account successfully')\n",
        "    print(f'Your current balance is {self.balance}')\n",
        "\n",
        "  def withdrawal(self, amount):\n",
        "    if self.balance < amount:\n",
        "      print('Sorry you do not have sufficient balance')\n",
        "    else:\n",
        "      self.balance-=amount\n",
        "      print(f'Amount of {amount} debited from your account successfully')\n",
        "      print(f'Your current balance is {self.balance}')\n",
        "\n"
      ],
      "metadata": {
        "id": "9U9NeaUsasxR"
      },
      "execution_count": 46,
      "outputs": []
    },
    {
      "cell_type": "code",
      "source": [
        "HDFC = Bank('Bala', '12345')"
      ],
      "metadata": {
        "id": "rrSFgKgdbnKK"
      },
      "execution_count": 48,
      "outputs": []
    },
    {
      "cell_type": "code",
      "source": [
        "HDFC.deposit(1000)"
      ],
      "metadata": {
        "colab": {
          "base_uri": "https://localhost:8080/"
        },
        "id": "wDztj852cJG6",
        "outputId": "0a8dd1ca-6d8c-4c29-953c-9f4d9d6ef3f7"
      },
      "execution_count": 49,
      "outputs": [
        {
          "output_type": "stream",
          "name": "stdout",
          "text": [
            "Amount of 1000 credited to your account successfully\n",
            "Your current balance is 1000\n"
          ]
        }
      ]
    },
    {
      "cell_type": "code",
      "source": [
        "HDFC.withdrawal(500)"
      ],
      "metadata": {
        "colab": {
          "base_uri": "https://localhost:8080/"
        },
        "id": "DKkzuGC-cNoN",
        "outputId": "25fbb1dc-8d2a-4136-a5fa-1fb0e821e9bd"
      },
      "execution_count": 50,
      "outputs": [
        {
          "output_type": "stream",
          "name": "stdout",
          "text": [
            "Amount of 500 debited from your account successfully\n",
            "Your current balance is 500\n"
          ]
        }
      ]
    },
    {
      "cell_type": "code",
      "source": [
        "HDFC.withdrawal(600)"
      ],
      "metadata": {
        "colab": {
          "base_uri": "https://localhost:8080/"
        },
        "id": "oU-3QYnHcQsY",
        "outputId": "2cc2eed5-5931-4780-b094-b292e0e28959"
      },
      "execution_count": 51,
      "outputs": [
        {
          "output_type": "stream",
          "name": "stdout",
          "text": [
            "Sorry you do not have sufficient balance\n"
          ]
        }
      ]
    },
    {
      "cell_type": "code",
      "source": [
        "class Bank():\n",
        "\n",
        "  def __init__(self, name, acc):\n",
        "    self.name = name\n",
        "    self.acc = acc\n",
        "    self.__balance = 0\n",
        "\n",
        "  def deposit(self, amount):\n",
        "    self.__balance+=amount\n",
        "    print(f'Amount of {amount} credited to your account successfully')\n",
        "    self._showbalance()\n",
        "\n",
        "  def withdrawal(self, amount):\n",
        "    if self.__balance < amount:\n",
        "      print('Sorry you do not have sufficient balance')\n",
        "      self._showbalance()\n",
        "    else:\n",
        "      self.__balance-=amount\n",
        "      print(f'Amount of {amount} debited from your account successfully')\n",
        "      self._showbalance()\n",
        "\n",
        "  def _showbalance(self):\n",
        "    print(f'Your current balance is {self.__balance}')\n"
      ],
      "metadata": {
        "id": "PzKms6VAc-Ig"
      },
      "execution_count": 52,
      "outputs": []
    },
    {
      "cell_type": "code",
      "source": [
        "icici = Bank('Vijay', '23154')\n",
        "icici.deposit(2000)"
      ],
      "metadata": {
        "colab": {
          "base_uri": "https://localhost:8080/"
        },
        "id": "96-I_jqmdoSy",
        "outputId": "67c900f2-10d2-4d56-9acf-baea19182543"
      },
      "execution_count": 53,
      "outputs": [
        {
          "output_type": "stream",
          "name": "stdout",
          "text": [
            "Amount of 2000 credited to your account successfully\n",
            "Your current balance is 2000\n"
          ]
        }
      ]
    },
    {
      "cell_type": "code",
      "source": [
        "icici.withdrawal(600)"
      ],
      "metadata": {
        "colab": {
          "base_uri": "https://localhost:8080/"
        },
        "id": "o6FBnLCvdxpi",
        "outputId": "da773195-38ae-4ca3-8e7d-50f386525b77"
      },
      "execution_count": 54,
      "outputs": [
        {
          "output_type": "stream",
          "name": "stdout",
          "text": [
            "Amount of 600 debited from your account successfully\n",
            "Your current balance is 1400\n"
          ]
        }
      ]
    },
    {
      "cell_type": "code",
      "source": [
        "icici.withdrawal(1500)"
      ],
      "metadata": {
        "colab": {
          "base_uri": "https://localhost:8080/"
        },
        "id": "XPl7WHapd25V",
        "outputId": "29c66602-3426-49e2-b707-b4affd08c6d1"
      },
      "execution_count": 55,
      "outputs": [
        {
          "output_type": "stream",
          "name": "stdout",
          "text": [
            "Sorry you do not have sufficient balance\n",
            "Your current balance is 1400\n"
          ]
        }
      ]
    },
    {
      "cell_type": "code",
      "source": [
        "icici.showbalance()"
      ],
      "metadata": {
        "colab": {
          "base_uri": "https://localhost:8080/",
          "height": 146
        },
        "id": "vlQuSdX6eJl7",
        "outputId": "2aa54eab-98d3-447f-ae12-ae3a236c6dfe"
      },
      "execution_count": 56,
      "outputs": [
        {
          "output_type": "error",
          "ename": "AttributeError",
          "evalue": "'Bank' object has no attribute 'showbalance'",
          "traceback": [
            "\u001b[0;31m---------------------------------------------------------------------------\u001b[0m",
            "\u001b[0;31mAttributeError\u001b[0m                            Traceback (most recent call last)",
            "\u001b[0;32m<ipython-input-56-15561238f465>\u001b[0m in \u001b[0;36m<cell line: 0>\u001b[0;34m()\u001b[0m\n\u001b[0;32m----> 1\u001b[0;31m \u001b[0micici\u001b[0m\u001b[0;34m.\u001b[0m\u001b[0mshowbalance\u001b[0m\u001b[0;34m(\u001b[0m\u001b[0;34m)\u001b[0m\u001b[0;34m\u001b[0m\u001b[0;34m\u001b[0m\u001b[0m\n\u001b[0m",
            "\u001b[0;31mAttributeError\u001b[0m: 'Bank' object has no attribute 'showbalance'"
          ]
        }
      ]
    },
    {
      "cell_type": "code",
      "source": [
        "icici._showbalance()\n"
      ],
      "metadata": {
        "colab": {
          "base_uri": "https://localhost:8080/"
        },
        "id": "t4fudmyqeOYz",
        "outputId": "010520d0-482e-440f-dfd5-ce02562990db"
      },
      "execution_count": 60,
      "outputs": [
        {
          "output_type": "stream",
          "name": "stdout",
          "text": [
            "Your current balance is 1400\n"
          ]
        }
      ]
    },
    {
      "cell_type": "code",
      "source": [
        "class Bank():\n",
        "\n",
        "  def __init__(self, name, acc):\n",
        "    self.name = name\n",
        "    self.acc = acc\n",
        "    self.__balance = 0\n",
        "\n",
        "  def deposit(self, amount):\n",
        "    self.__balance+=amount\n",
        "    print(f'Amount of {amount} credited to your account successfully')\n",
        "    self.__showbalance()\n",
        "\n",
        "  def withdrawal(self, amount):\n",
        "    if self.__balance < amount:\n",
        "      print('Sorry you do not have sufficient balance')\n",
        "      self.__showbalance()\n",
        "    else:\n",
        "      self.__balance-=amount\n",
        "      print(f'Amount of {amount} debited from your account successfully')\n",
        "      self.__showbalance()\n",
        "\n",
        "  def __showbalance(self):\n",
        "    print(f'Your current balance is {self.__balance}')\n"
      ],
      "metadata": {
        "id": "HBp-DRhHewOB"
      },
      "execution_count": 61,
      "outputs": []
    },
    {
      "cell_type": "code",
      "source": [
        "icici = Bank('bala', '12345')"
      ],
      "metadata": {
        "id": "vOHZDzlce1LB"
      },
      "execution_count": 62,
      "outputs": []
    },
    {
      "cell_type": "code",
      "source": [
        "icici.deposit(1000)"
      ],
      "metadata": {
        "colab": {
          "base_uri": "https://localhost:8080/"
        },
        "id": "4yek5_Bme5vC",
        "outputId": "873e9399-4b63-450f-e227-5bfe8235fb0b"
      },
      "execution_count": 63,
      "outputs": [
        {
          "output_type": "stream",
          "name": "stdout",
          "text": [
            "Amount of 1000 credited to your account successfully\n",
            "Your current balance is 1000\n"
          ]
        }
      ]
    },
    {
      "cell_type": "code",
      "source": [
        "icici.showbalance()"
      ],
      "metadata": {
        "colab": {
          "base_uri": "https://localhost:8080/",
          "height": 146
        },
        "id": "vTzCjvxwe8fJ",
        "outputId": "7a58d1e2-a4c8-4710-cbe0-d4a4557a2ffc"
      },
      "execution_count": 64,
      "outputs": [
        {
          "output_type": "error",
          "ename": "AttributeError",
          "evalue": "'Bank' object has no attribute 'showbalance'",
          "traceback": [
            "\u001b[0;31m---------------------------------------------------------------------------\u001b[0m",
            "\u001b[0;31mAttributeError\u001b[0m                            Traceback (most recent call last)",
            "\u001b[0;32m<ipython-input-64-15561238f465>\u001b[0m in \u001b[0;36m<cell line: 0>\u001b[0;34m()\u001b[0m\n\u001b[0;32m----> 1\u001b[0;31m \u001b[0micici\u001b[0m\u001b[0;34m.\u001b[0m\u001b[0mshowbalance\u001b[0m\u001b[0;34m(\u001b[0m\u001b[0;34m)\u001b[0m\u001b[0;34m\u001b[0m\u001b[0;34m\u001b[0m\u001b[0m\n\u001b[0m",
            "\u001b[0;31mAttributeError\u001b[0m: 'Bank' object has no attribute 'showbalance'"
          ]
        }
      ]
    },
    {
      "cell_type": "code",
      "source": [
        "icici._Bank__showbalance()"
      ],
      "metadata": {
        "colab": {
          "base_uri": "https://localhost:8080/"
        },
        "id": "MZLFtW0hfARP",
        "outputId": "13e0cd7c-4210-4687-cc07-63453303e421"
      },
      "execution_count": 66,
      "outputs": [
        {
          "output_type": "stream",
          "name": "stdout",
          "text": [
            "Your current balance is 1000\n"
          ]
        }
      ]
    },
    {
      "cell_type": "markdown",
      "source": [
        "| Modifier   | Syntax   | Accessible in subclass | Accessible outside class | Real privacy |\n",
        "|------------|----------|------------------------|---------------------------|---------------|\n",
        "| Public     | `name`   | ✅ Yes                 | ✅ Yes                    | ❌ No         |\n",
        "| Protected  | `_name`  | ✅ Yes                 | ⚠️ Yes (not recommended) | ❌ No         |\n",
        "| Private    | `__name` | ❌ No (without mangling) | ❌ No                   | ✅ Yes (via name mangling) |"
      ],
      "metadata": {
        "id": "z0d7r6vBfra-"
      }
    },
    {
      "cell_type": "code",
      "source": [
        "!date"
      ],
      "metadata": {
        "colab": {
          "base_uri": "https://localhost:8080/"
        },
        "id": "OG6Yawabfr9v",
        "outputId": "5b674851-5b96-4f74-9778-a3f0244552eb"
      },
      "execution_count": 67,
      "outputs": [
        {
          "output_type": "stream",
          "name": "stdout",
          "text": [
            "Tue Jun 10 01:41:26 AM UTC 2025\n"
          ]
        }
      ]
    },
    {
      "cell_type": "code",
      "source": [
        "!ls"
      ],
      "metadata": {
        "colab": {
          "base_uri": "https://localhost:8080/"
        },
        "id": "KWE5M4fof-SQ",
        "outputId": "5e2f2ab7-cab5-4f27-dfe7-d030a1239796"
      },
      "execution_count": 68,
      "outputs": [
        {
          "output_type": "stream",
          "name": "stdout",
          "text": [
            "sample_data\n"
          ]
        }
      ]
    },
    {
      "cell_type": "code",
      "source": [
        "%cd"
      ],
      "metadata": {
        "colab": {
          "base_uri": "https://localhost:8080/"
        },
        "id": "OArClP3Lf_gP",
        "outputId": "fd4526b2-1139-4857-92da-f489323295d2"
      },
      "execution_count": 84,
      "outputs": [
        {
          "output_type": "stream",
          "name": "stdout",
          "text": [
            "/root\n"
          ]
        }
      ]
    },
    {
      "cell_type": "code",
      "source": [
        "!pwd"
      ],
      "metadata": {
        "colab": {
          "base_uri": "https://localhost:8080/"
        },
        "id": "o7zknuVigB1B",
        "outputId": "85b5de4e-bb72-46f5-c6c0-52e65ef54af7"
      },
      "execution_count": 83,
      "outputs": [
        {
          "output_type": "stream",
          "name": "stdout",
          "text": [
            "/root\n"
          ]
        }
      ]
    },
    {
      "cell_type": "code",
      "source": [
        "!mkdir 'vijay'"
      ],
      "metadata": {
        "id": "9GH6n0mMgDfO"
      },
      "execution_count": 87,
      "outputs": []
    },
    {
      "cell_type": "code",
      "source": [
        "!mkdir vijay/gt"
      ],
      "metadata": {
        "id": "-2wJyeUJgJtw"
      },
      "execution_count": 88,
      "outputs": []
    },
    {
      "cell_type": "code",
      "source": [
        "!mkdir vijay/gt/abc.txt"
      ],
      "metadata": {
        "id": "ccN6iV_lgac2"
      },
      "execution_count": 89,
      "outputs": []
    },
    {
      "cell_type": "code",
      "source": [
        "%cd /root/vijay"
      ],
      "metadata": {
        "colab": {
          "base_uri": "https://localhost:8080/"
        },
        "id": "4TurElgYgdj0",
        "outputId": "320b8833-591f-4c5a-ac3c-0e48a8bef2ab"
      },
      "execution_count": 92,
      "outputs": [
        {
          "output_type": "stream",
          "name": "stdout",
          "text": [
            "/root/vijay\n"
          ]
        }
      ]
    },
    {
      "cell_type": "code",
      "source": [
        "cd"
      ],
      "metadata": {
        "colab": {
          "base_uri": "https://localhost:8080/"
        },
        "id": "75kA1-Mqgkmz",
        "outputId": "7fd32b31-07b8-495b-a4c6-cbe18a155a2d"
      },
      "execution_count": 93,
      "outputs": [
        {
          "output_type": "stream",
          "name": "stdout",
          "text": [
            "/root\n"
          ]
        }
      ]
    },
    {
      "cell_type": "code",
      "source": [
        "import os\n",
        "\n",
        "os.makedirs(\"vijay/gt\", exist_ok=True)\n",
        "with open(\"vijay/gt/abc.txt\", \"w\") as f:\n",
        "    f.write(\"Hello from Python!\")\n"
      ],
      "metadata": {
        "id": "0PB9b5xvhYG1"
      },
      "execution_count": 91,
      "outputs": []
    },
    {
      "cell_type": "code",
      "source": [
        "import os\n",
        "\n",
        "os.getcwd()"
      ],
      "metadata": {
        "colab": {
          "base_uri": "https://localhost:8080/",
          "height": 36
        },
        "id": "SYwA5Gu-hpiY",
        "outputId": "54ae89dd-62cb-41bf-91eb-4c408647fb4d"
      },
      "execution_count": 94,
      "outputs": [
        {
          "output_type": "execute_result",
          "data": {
            "text/plain": [
              "'/root'"
            ],
            "application/vnd.google.colaboratory.intrinsic+json": {
              "type": "string"
            }
          },
          "metadata": {},
          "execution_count": 94
        }
      ]
    },
    {
      "cell_type": "code",
      "source": [
        "os.makedirs('rajini/abc/def', exist_ok=True)"
      ],
      "metadata": {
        "id": "T3MDuQYchuCO"
      },
      "execution_count": 98,
      "outputs": []
    },
    {
      "cell_type": "code",
      "source": [
        "os.getcwd()"
      ],
      "metadata": {
        "colab": {
          "base_uri": "https://localhost:8080/",
          "height": 36
        },
        "id": "bHizDSCmiD3h",
        "outputId": "448a3e50-93a6-4977-a213-ae69ddd7c10a"
      },
      "execution_count": 99,
      "outputs": [
        {
          "output_type": "execute_result",
          "data": {
            "text/plain": [
              "'/root'"
            ],
            "application/vnd.google.colaboratory.intrinsic+json": {
              "type": "string"
            }
          },
          "metadata": {},
          "execution_count": 99
        }
      ]
    },
    {
      "cell_type": "code",
      "source": [
        "os.chdir('rajini/abc/def')"
      ],
      "metadata": {
        "id": "_ipIOsfjiGHF"
      },
      "execution_count": 100,
      "outputs": []
    },
    {
      "cell_type": "code",
      "source": [
        "os.getcwd()"
      ],
      "metadata": {
        "colab": {
          "base_uri": "https://localhost:8080/",
          "height": 36
        },
        "id": "SnRYtvNbiJ3m",
        "outputId": "c09de914-8da6-445b-9fc4-31ae5a59fae7"
      },
      "execution_count": 101,
      "outputs": [
        {
          "output_type": "execute_result",
          "data": {
            "text/plain": [
              "'/root/rajini/abc/def'"
            ],
            "application/vnd.google.colaboratory.intrinsic+json": {
              "type": "string"
            }
          },
          "metadata": {},
          "execution_count": 101
        }
      ]
    },
    {
      "cell_type": "code",
      "source": [
        "os.environ"
      ],
      "metadata": {
        "colab": {
          "base_uri": "https://localhost:8080/"
        },
        "collapsed": true,
        "id": "V5H_k14wiUSr",
        "outputId": "55565ae6-5656-4d0e-daff-3f2dc7f36862"
      },
      "execution_count": 103,
      "outputs": [
        {
          "output_type": "execute_result",
          "data": {
            "text/plain": [
              "environ{'SHELL': '/bin/bash',\n",
              "        'NV_LIBCUBLAS_VERSION': '12.5.3.2-1',\n",
              "        'NVIDIA_VISIBLE_DEVICES': 'all',\n",
              "        'COLAB_JUPYTER_TRANSPORT': 'ipc',\n",
              "        'NV_NVML_DEV_VERSION': '12.5.82-1',\n",
              "        'NV_CUDNN_PACKAGE_NAME': 'libcudnn9-cuda-12',\n",
              "        'CGROUP_MEMORY_EVENTS': '/sys/fs/cgroup/memory.events /var/colab/cgroup/jupyter-children/memory.events',\n",
              "        'NV_LIBNCCL_DEV_PACKAGE': 'libnccl-dev=2.22.3-1+cuda12.5',\n",
              "        'NV_LIBNCCL_DEV_PACKAGE_VERSION': '2.22.3-1',\n",
              "        'VM_GCE_METADATA_HOST': '169.254.169.253',\n",
              "        'MODEL_PROXY_HOST': 'https://mp.kaggle.net',\n",
              "        'HOSTNAME': '3161f34d62d9',\n",
              "        'LANGUAGE': 'en_US',\n",
              "        'TBE_RUNTIME_ADDR': '172.28.0.1:8011',\n",
              "        'COLAB_TPU_1VM': '',\n",
              "        'GCE_METADATA_TIMEOUT': '3',\n",
              "        'NVIDIA_REQUIRE_CUDA': 'cuda>=12.5 brand=unknown,driver>=470,driver<471 brand=grid,driver>=470,driver<471 brand=tesla,driver>=470,driver<471 brand=nvidia,driver>=470,driver<471 brand=quadro,driver>=470,driver<471 brand=quadrortx,driver>=470,driver<471 brand=nvidiartx,driver>=470,driver<471 brand=vapps,driver>=470,driver<471 brand=vpc,driver>=470,driver<471 brand=vcs,driver>=470,driver<471 brand=vws,driver>=470,driver<471 brand=cloudgaming,driver>=470,driver<471 brand=unknown,driver>=535,driver<536 brand=grid,driver>=535,driver<536 brand=tesla,driver>=535,driver<536 brand=nvidia,driver>=535,driver<536 brand=quadro,driver>=535,driver<536 brand=quadrortx,driver>=535,driver<536 brand=nvidiartx,driver>=535,driver<536 brand=vapps,driver>=535,driver<536 brand=vpc,driver>=535,driver<536 brand=vcs,driver>=535,driver<536 brand=vws,driver>=535,driver<536 brand=cloudgaming,driver>=535,driver<536 brand=unknown,driver>=550,driver<551 brand=grid,driver>=550,driver<551 brand=tesla,driver>=550,driver<551 brand=nvidia,driver>=550,driver<551 brand=quadro,driver>=550,driver<551 brand=quadrortx,driver>=550,driver<551 brand=nvidiartx,driver>=550,driver<551 brand=vapps,driver>=550,driver<551 brand=vpc,driver>=550,driver<551 brand=vcs,driver>=550,driver<551 brand=vws,driver>=550,driver<551 brand=cloudgaming,driver>=550,driver<551',\n",
              "        'NV_LIBCUBLAS_DEV_PACKAGE': 'libcublas-dev-12-5=12.5.3.2-1',\n",
              "        'NV_NVTX_VERSION': '12.5.82-1',\n",
              "        'COLAB_JUPYTER_IP': '172.28.0.12',\n",
              "        'NV_CUDA_CUDART_DEV_VERSION': '12.5.82-1',\n",
              "        'NV_LIBCUSPARSE_VERSION': '12.5.1.3-1',\n",
              "        'COLAB_LANGUAGE_SERVER_PROXY_ROOT_URL': 'http://172.28.0.1:8013/',\n",
              "        'NV_LIBNPP_VERSION': '12.3.0.159-1',\n",
              "        'NCCL_VERSION': '2.22.3-1',\n",
              "        'KMP_LISTEN_PORT': '6000',\n",
              "        'TF_FORCE_GPU_ALLOW_GROWTH': 'true',\n",
              "        'ENV': '/root/.bashrc',\n",
              "        'PWD': '/',\n",
              "        'TBE_EPHEM_CREDS_ADDR': '172.28.0.1:8009',\n",
              "        'COLAB_LANGUAGE_SERVER_PROXY_REQUEST_TIMEOUT': '30s',\n",
              "        'TBE_CREDS_ADDR': '172.28.0.1:8008',\n",
              "        'NV_CUDNN_PACKAGE': 'libcudnn9-cuda-12=9.2.1.18-1',\n",
              "        'NVIDIA_DRIVER_CAPABILITIES': 'compute,utility',\n",
              "        'COLAB_JUPYTER_TOKEN': '',\n",
              "        'LAST_FORCED_REBUILD': '20250509',\n",
              "        'NV_NVPROF_DEV_PACKAGE': 'cuda-nvprof-12-5=12.5.82-1',\n",
              "        'NV_LIBNPP_PACKAGE': 'libnpp-12-5=12.3.0.159-1',\n",
              "        'NV_LIBNCCL_DEV_PACKAGE_NAME': 'libnccl-dev',\n",
              "        'TCLLIBPATH': '/usr/share/tcltk/tcllib1.20',\n",
              "        'NV_LIBCUBLAS_DEV_VERSION': '12.5.3.2-1',\n",
              "        'NVIDIA_PRODUCT_NAME': 'CUDA',\n",
              "        'COLAB_KERNEL_MANAGER_PROXY_HOST': '172.28.0.12',\n",
              "        'UV_BUILD_CONSTRAINT': '',\n",
              "        'NV_LIBCUBLAS_DEV_PACKAGE_NAME': 'libcublas-dev-12-5',\n",
              "        'NV_CUDA_CUDART_VERSION': '12.5.82-1',\n",
              "        'COLAB_WARMUP_DEFAULTS': '1',\n",
              "        'HOME': '/root',\n",
              "        'LANG': 'en_US.UTF-8',\n",
              "        'CUDA_VERSION': '12.5.1',\n",
              "        'CLOUDSDK_CONFIG': '/content/.config',\n",
              "        'NV_LIBCUBLAS_PACKAGE': 'libcublas-12-5=12.5.3.2-1',\n",
              "        'NV_CUDA_NSIGHT_COMPUTE_DEV_PACKAGE': 'cuda-nsight-compute-12-5=12.5.1-1',\n",
              "        'UV_SYSTEM_PYTHON': 'true',\n",
              "        'COLAB_RELEASE_TAG': 'release-colab_20250605-060106_RC00',\n",
              "        'KMP_TARGET_PORT': '9000',\n",
              "        'KMP_EXTRA_ARGS': '--logtostderr --listen_host=172.28.0.12 --target_host=172.28.0.12 --tunnel_background_save_url=https://colab.research.google.com/tun/m/cc48301118ce562b961b3c22d803539adc1e0c19/m-s-2y70yhfixfpg1 --tunnel_background_save_delay=10s --tunnel_periodic_background_save_frequency=30m0s --enable_output_coalescing=true --output_coalescing_required=true ',\n",
              "        'UV_INSTALL_DIR': '/usr/local/bin',\n",
              "        'NV_LIBNPP_DEV_PACKAGE': 'libnpp-dev-12-5=12.3.0.159-1',\n",
              "        'COLAB_LANGUAGE_SERVER_PROXY_LSP_DIRS': '/datalab/web/pyright/typeshed-fallback/stdlib,/usr/local/lib/python3.10/dist-packages',\n",
              "        'NV_LIBCUBLAS_PACKAGE_NAME': 'libcublas-12-5',\n",
              "        'COLAB_KERNEL_MANAGER_PROXY_PORT': '6000',\n",
              "        'CLOUDSDK_PYTHON': 'python3',\n",
              "        'NV_LIBNPP_DEV_VERSION': '12.3.0.159-1',\n",
              "        'NO_GCE_CHECK': 'False',\n",
              "        'PYTHONPATH': '/env/python',\n",
              "        'NV_LIBCUSPARSE_DEV_VERSION': '12.5.1.3-1',\n",
              "        'LIBRARY_PATH': '/usr/local/cuda/lib64/stubs',\n",
              "        'NV_CUDNN_VERSION': '9.2.1.18-1',\n",
              "        'SHLVL': '0',\n",
              "        'NV_CUDA_LIB_VERSION': '12.5.1-1',\n",
              "        'COLAB_LANGUAGE_SERVER_PROXY': '/usr/colab/bin/language_service',\n",
              "        'NVARCH': 'x86_64',\n",
              "        'UV_CONSTRAINT': '',\n",
              "        'PYTHONUTF8': '1',\n",
              "        'NV_CUDNN_PACKAGE_DEV': 'libcudnn9-dev-cuda-12=9.2.1.18-1',\n",
              "        'NV_LIBNCCL_PACKAGE': 'libnccl2=2.22.3-1+cuda12.5',\n",
              "        'LD_LIBRARY_PATH': '/usr/local/nvidia/lib:/usr/local/nvidia/lib64',\n",
              "        'COLAB_GPU': '',\n",
              "        'NV_CUDA_NSIGHT_COMPUTE_VERSION': '12.5.1-1',\n",
              "        'GCS_READ_CACHE_BLOCK_SIZE_MB': '16',\n",
              "        'NV_NVPROF_VERSION': '12.5.82-1',\n",
              "        'LC_ALL': 'en_US.UTF-8',\n",
              "        'COLAB_FILE_HANDLER_ADDR': 'localhost:3453',\n",
              "        'PATH': '/opt/bin:/usr/local/nvidia/bin:/usr/local/cuda/bin:/usr/local/sbin:/usr/local/bin:/usr/sbin:/usr/bin:/sbin:/bin:/tools/node/bin:/tools/google-cloud-sdk/bin',\n",
              "        'NV_LIBNCCL_PACKAGE_NAME': 'libnccl2',\n",
              "        'COLAB_DEBUG_ADAPTER_MUX_PATH': '/usr/local/bin/dap_multiplexer',\n",
              "        'NV_LIBNCCL_PACKAGE_VERSION': '2.22.3-1',\n",
              "        'PYTHONWARNINGS': 'ignore:::pip._internal.cli.base_command',\n",
              "        'DEBIAN_FRONTEND': 'noninteractive',\n",
              "        'COLAB_BACKEND_VERSION': 'next',\n",
              "        'OLDPWD': '/',\n",
              "        '_PYVIZ_COMMS_INSTALLED': '1',\n",
              "        'PYDEVD_USE_FRAME_EVAL': 'NO',\n",
              "        'JPY_PARENT_PID': '90',\n",
              "        'TERM': 'xterm-color',\n",
              "        'CLICOLOR': '1',\n",
              "        'PAGER': 'cat',\n",
              "        'GIT_PAGER': 'cat',\n",
              "        'MPLBACKEND': 'module://matplotlib_inline.backend_inline',\n",
              "        'ENABLE_DIRECTORYPREFETCHER': '1',\n",
              "        'USE_AUTH_EPHEM': '1',\n",
              "        'COLAB_NOTEBOOK_ID': '1pXN6VPgKOEekjvC3mR1EI_IoAep387fg'}"
            ]
          },
          "metadata": {},
          "execution_count": 103
        }
      ]
    },
    {
      "cell_type": "code",
      "source": [
        "path = '/root/rajini/abc/def'\n",
        "os.remove(path)"
      ],
      "metadata": {
        "colab": {
          "base_uri": "https://localhost:8080/",
          "height": 164
        },
        "id": "J5Wb2Ysoieq0",
        "outputId": "baec1ec7-b330-4b9e-eb36-e778c3b1488e"
      },
      "execution_count": 107,
      "outputs": [
        {
          "output_type": "error",
          "ename": "IsADirectoryError",
          "evalue": "[Errno 21] Is a directory: '/root/rajini/abc/def'",
          "traceback": [
            "\u001b[0;31m---------------------------------------------------------------------------\u001b[0m",
            "\u001b[0;31mIsADirectoryError\u001b[0m                         Traceback (most recent call last)",
            "\u001b[0;32m<ipython-input-107-d44f9d12ddb4>\u001b[0m in \u001b[0;36m<cell line: 0>\u001b[0;34m()\u001b[0m\n\u001b[1;32m      1\u001b[0m \u001b[0mpath\u001b[0m \u001b[0;34m=\u001b[0m \u001b[0;34m'/root/rajini/abc/def'\u001b[0m\u001b[0;34m\u001b[0m\u001b[0;34m\u001b[0m\u001b[0m\n\u001b[0;32m----> 2\u001b[0;31m \u001b[0mos\u001b[0m\u001b[0;34m.\u001b[0m\u001b[0mremove\u001b[0m\u001b[0;34m(\u001b[0m\u001b[0mpath\u001b[0m\u001b[0;34m)\u001b[0m\u001b[0;34m\u001b[0m\u001b[0;34m\u001b[0m\u001b[0m\n\u001b[0m",
            "\u001b[0;31mIsADirectoryError\u001b[0m: [Errno 21] Is a directory: '/root/rajini/abc/def'"
          ]
        }
      ]
    },
    {
      "cell_type": "code",
      "source": [
        "import shutil\n",
        "shutil.rmtree(path) # it removes the directory and files or sub directories\n"
      ],
      "metadata": {
        "id": "hJ_SrOZ0jzam"
      },
      "execution_count": 108,
      "outputs": []
    },
    {
      "cell_type": "code",
      "source": [
        "import os\n",
        "os.getcwd()"
      ],
      "metadata": {
        "colab": {
          "base_uri": "https://localhost:8080/",
          "height": 36
        },
        "id": "_J5krnwFj1CX",
        "outputId": "6211c4f8-0a5e-4592-acbc-8f37403acb23"
      },
      "execution_count": 2,
      "outputs": [
        {
          "output_type": "execute_result",
          "data": {
            "text/plain": [
              "'/content'"
            ],
            "application/vnd.google.colaboratory.intrinsic+json": {
              "type": "string"
            }
          },
          "metadata": {},
          "execution_count": 2
        }
      ]
    }
  ]
}